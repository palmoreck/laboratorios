{
 "cells": [
  {
   "cell_type": "markdown",
   "id": "df7005fd-af4e-458e-b552-8b0453ea9f79",
   "metadata": {},
   "source": [
    "Referencia a lo que sigue: [R for data science](https://r4ds.had.co.nz/index.html)"
   ]
  },
  {
   "cell_type": "code",
   "execution_count": 1,
   "id": "6268e3da-37d3-489d-b3f3-e46bf0ea5ffc",
   "metadata": {},
   "outputs": [
    {
     "name": "stderr",
     "output_type": "stream",
     "text": [
      "Warning message in system(\"timedatectl\", intern = TRUE):\n",
      "“running command 'timedatectl' had status 1”\n",
      "── \u001b[1mAttaching packages\u001b[22m ─────────────────────────────────────── tidyverse 1.3.1 ──\n",
      "\n",
      "\u001b[32m✔\u001b[39m \u001b[34mggplot2\u001b[39m 3.3.5     \u001b[32m✔\u001b[39m \u001b[34mpurrr  \u001b[39m 0.3.4\n",
      "\u001b[32m✔\u001b[39m \u001b[34mtibble \u001b[39m 3.1.3     \u001b[32m✔\u001b[39m \u001b[34mdplyr  \u001b[39m 1.0.7\n",
      "\u001b[32m✔\u001b[39m \u001b[34mtidyr  \u001b[39m 1.1.3     \u001b[32m✔\u001b[39m \u001b[34mstringr\u001b[39m 1.4.0\n",
      "\u001b[32m✔\u001b[39m \u001b[34mreadr  \u001b[39m 2.0.1     \u001b[32m✔\u001b[39m \u001b[34mforcats\u001b[39m 0.5.1\n",
      "\n",
      "── \u001b[1mConflicts\u001b[22m ────────────────────────────────────────── tidyverse_conflicts() ──\n",
      "\u001b[31m✖\u001b[39m \u001b[34mdplyr\u001b[39m::\u001b[32mfilter()\u001b[39m masks \u001b[34mstats\u001b[39m::filter()\n",
      "\u001b[31m✖\u001b[39m \u001b[34mdplyr\u001b[39m::\u001b[32mlag()\u001b[39m    masks \u001b[34mstats\u001b[39m::lag()\n",
      "\n"
     ]
    }
   ],
   "source": [
    "library(tidyverse)"
   ]
  },
  {
   "cell_type": "code",
   "execution_count": 2,
   "id": "77407baf-d19d-4e92-a9cc-4624d1c5a2b6",
   "metadata": {},
   "outputs": [],
   "source": [
    "library(dplyr)"
   ]
  },
  {
   "cell_type": "markdown",
   "id": "dd6a47bd-9cb9-4355-bed5-932c69d5e565",
   "metadata": {},
   "source": [
    "Para regresión lineal utilizar los datos [maize_Bellon_Mastretta_extract.zip](https://drive.google.com/file/d/18LNkD9yttbCgAODIc2cLk42toGTceOkj/view?usp=sharing) los cuales se utilizan en el paper: [Evolutionary and food supply implications of ongoing maize domestication by Mexican campesinos](https://royalsocietypublishing.org/doi/10.1098/rspb.2018.1049). Realizar dos regresiones lineales:\n",
    "\n",
    "* Usar la variable rend2010 como variable respuesta y predictoras: Tmean_MayOct, Precipmean_MayOct, Precipsum_MayOct, Slope_mod, MedianAlt_med.\n",
    "\n",
    "* Usar la variable aper2010 como variable respuesta y predictoras: Tmean_MayOct, Precipmean_MayOct, Precipsum_MayOct, Slope_mod, MedianAlt_med.\n",
    "\n",
    "La descripción de las variables está en el archivo variable_codes.txt"
   ]
  },
  {
   "cell_type": "code",
   "execution_count": 3,
   "id": "a5e14cb0-7278-4f91-9cef-69a8f82e800e",
   "metadata": {},
   "outputs": [],
   "source": [
    "library(readr)"
   ]
  },
  {
   "cell_type": "code",
   "execution_count": 4,
   "id": "eba885bb-cbf2-4c09-b9a4-70d735b703a9",
   "metadata": {},
   "outputs": [
    {
     "name": "stderr",
     "output_type": "stream",
     "text": [
      "\u001b[1m\u001b[1mRows: \u001b[1m\u001b[22m\u001b[34m\u001b[34m2459\u001b[34m\u001b[39m \u001b[1m\u001b[1mColumns: \u001b[1m\u001b[22m\u001b[34m\u001b[34m17\u001b[34m\u001b[39m\n",
      "\n",
      "\u001b[36m──\u001b[39m \u001b[1m\u001b[1mColumn specification\u001b[1m\u001b[22m \u001b[36m────────────────────────────────────────────────────────\u001b[39m\n",
      "\u001b[1mDelimiter:\u001b[22m \",\"\n",
      "\u001b[31mchr\u001b[39m  (3): Idcode, NOM_ENT_1, NOM_MUN_1\n",
      "\u001b[32mdbl\u001b[39m (14): Tmean_MayOct, Precipmean_MayOct, Precipsum_MayOct, MedianAlt_med, ...\n",
      "\n",
      "\n",
      "\u001b[36mℹ\u001b[39m Use \u001b[30m\u001b[47m\u001b[30m\u001b[47m`spec()`\u001b[47m\u001b[30m\u001b[49m\u001b[39m to retrieve the full column specification for this data.\n",
      "\u001b[36mℹ\u001b[39m Specify the column types or set \u001b[30m\u001b[47m\u001b[30m\u001b[47m`show_col_types = FALSE`\u001b[47m\u001b[30m\u001b[49m\u001b[39m to quiet this message.\n",
      "\n"
     ]
    }
   ],
   "source": [
    "df_procampo <- read_csv(\"maize_Bellon_Mastretta_extract/procampo2010SIAP2010_envdata.csv\")"
   ]
  },
  {
   "cell_type": "code",
   "execution_count": 5,
   "id": "21bff76c-6342-4310-9a33-09ac6570f6fe",
   "metadata": {},
   "outputs": [
    {
     "data": {
      "text/plain": [
       "cols(\n",
       "  Idcode = \u001b[31mcol_character()\u001b[39m,\n",
       "  NOM_ENT_1 = \u001b[31mcol_character()\u001b[39m,\n",
       "  NOM_MUN_1 = \u001b[31mcol_character()\u001b[39m,\n",
       "  Tmean_MayOct = \u001b[32mcol_double()\u001b[39m,\n",
       "  Precipmean_MayOct = \u001b[32mcol_double()\u001b[39m,\n",
       "  Precipsum_MayOct = \u001b[32mcol_double()\u001b[39m,\n",
       "  MedianAlt_med = \u001b[32mcol_double()\u001b[39m,\n",
       "  Slope_mod = \u001b[32mcol_double()\u001b[39m,\n",
       "  aplt2010 = \u001b[32mcol_double()\u001b[39m,\n",
       "  yldclass = \u001b[32mcol_double()\u001b[39m,\n",
       "  acos2010 = \u001b[32mcol_double()\u001b[39m,\n",
       "  aper2010 = \u001b[32mcol_double()\u001b[39m,\n",
       "  aper10. = \u001b[32mcol_double()\u001b[39m,\n",
       "  prod2010 = \u001b[32mcol_double()\u001b[39m,\n",
       "  rend2010 = \u001b[32mcol_double()\u001b[39m,\n",
       "  prec2010 = \u001b[32mcol_double()\u001b[39m,\n",
       "  valo2010 = \u001b[32mcol_double()\u001b[39m\n",
       ")"
      ]
     },
     "metadata": {},
     "output_type": "display_data"
    }
   ],
   "source": [
    "spec(df_procampo)"
   ]
  },
  {
   "cell_type": "code",
   "execution_count": 6,
   "id": "e1782220-7b3d-4e32-a97f-d6f427d6fc8e",
   "metadata": {},
   "outputs": [
    {
     "name": "stderr",
     "output_type": "stream",
     "text": [
      "Warning message in readLines(\"maize_Bellon_Mastretta_extract/variable_codes.txt\"):\n",
      "“incomplete final line found on 'maize_Bellon_Mastretta_extract/variable_codes.txt'”\n"
     ]
    },
    {
     "name": "stdout",
     "output_type": "stream",
     "text": [
      "Variable name\tExplanation\n",
      "Idcode\tMunicipality code\n",
      "aplt2010\tArea planted with maize in the municipality during the rainfed season 2010 from SIAP\n",
      "yldclass\tYield class (1 to 7)\n",
      "acos2010\tArea harvested of maize in the municipality during the rainfed season 2010 from SIAP\n",
      "aper2010\tArea planted in the municipality that was not harvested for 2010 (area lost) from SIAP\n",
      "prod2010\tTotal maize production in the municipality during the rainfed season 2010 SIAP\n",
      "rend2010\t yield (ton/ha) for that municipality for rainfed season 2010 from SIAP\n",
      "prec2010\tPrice (MXN pesos) per ton for 2010 from SIAP\n",
      "valo2010\tTotal value (thousand MXN pesos) of produciton (production * price) for 2010 from SIAP\n",
      "Tmean_MayOct\tMean temperature for the rainfed season\n",
      "Precipmean_MayOct\tMean precipitation for the rainfed season\n",
      "Precipsum_MayOct\tCummulative (sum) precipitation for the rainfed season\n",
      "Slope_mod\tMode of the slope\n",
      "MedianAlt_med\tMedian altitude\n",
      "\t\n",
      "\t\n",
      "\t\n",
      "\t\n",
      "\t\n",
      "\t\n",
      "\t\n",
      "\t\n",
      "\t\n",
      "\t\n",
      "\t\n",
      "\t\n",
      "\t\n",
      "\t\n",
      "\t\n",
      "\t\n",
      "\t\n",
      "\t\n",
      "\t\n",
      "\t\n",
      "\t\n",
      "\t\n",
      "\t\n",
      "\t\n",
      "\t\n",
      "\t\n",
      "\t\n",
      "\t\n",
      "\t\n",
      "\t\n",
      "\t\n",
      "\t\n",
      "\t\n",
      "\t\n",
      "\t\n",
      "\t\n",
      "\t\n",
      "\t\n",
      "\t\n",
      "\t\n",
      "\t\n",
      "\t\n",
      "\t\n",
      "\t\n"
     ]
    }
   ],
   "source": [
    "cat(readLines(\"maize_Bellon_Mastretta_extract/variable_codes.txt\"),sep=\"\\n\")"
   ]
  },
  {
   "cell_type": "code",
   "execution_count": null,
   "id": "a6f593f8-0e9f-411a-862a-a86cfdc39882",
   "metadata": {},
   "outputs": [],
   "source": []
  }
 ],
 "metadata": {
  "kernelspec": {
   "display_name": "R",
   "language": "R",
   "name": "ir"
  },
  "language_info": {
   "codemirror_mode": "r",
   "file_extension": ".r",
   "mimetype": "text/x-r-source",
   "name": "R",
   "pygments_lexer": "r",
   "version": "4.1.1"
  }
 },
 "nbformat": 4,
 "nbformat_minor": 5
}
