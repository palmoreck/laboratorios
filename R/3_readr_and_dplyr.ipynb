{
 "cells": [
  {
   "cell_type": "markdown",
   "id": "df7005fd-af4e-458e-b552-8b0453ea9f79",
   "metadata": {},
   "source": [
    "Referencia a lo que sigue: [R for data science](https://r4ds.had.co.nz/index.html)"
   ]
  },
  {
   "cell_type": "code",
   "execution_count": 1,
   "id": "6268e3da-37d3-489d-b3f3-e46bf0ea5ffc",
   "metadata": {},
   "outputs": [
    {
     "name": "stderr",
     "output_type": "stream",
     "text": [
      "Warning message in system(\"timedatectl\", intern = TRUE):\n",
      "“running command 'timedatectl' had status 1”\n",
      "── \u001b[1mAttaching packages\u001b[22m ─────────────────────────────────────── tidyverse 1.3.1 ──\n",
      "\n",
      "\u001b[32m✔\u001b[39m \u001b[34mggplot2\u001b[39m 3.3.5     \u001b[32m✔\u001b[39m \u001b[34mpurrr  \u001b[39m 0.3.4\n",
      "\u001b[32m✔\u001b[39m \u001b[34mtibble \u001b[39m 3.1.3     \u001b[32m✔\u001b[39m \u001b[34mdplyr  \u001b[39m 1.0.7\n",
      "\u001b[32m✔\u001b[39m \u001b[34mtidyr  \u001b[39m 1.1.3     \u001b[32m✔\u001b[39m \u001b[34mstringr\u001b[39m 1.4.0\n",
      "\u001b[32m✔\u001b[39m \u001b[34mreadr  \u001b[39m 2.0.1     \u001b[32m✔\u001b[39m \u001b[34mforcats\u001b[39m 0.5.1\n",
      "\n",
      "── \u001b[1mConflicts\u001b[22m ────────────────────────────────────────── tidyverse_conflicts() ──\n",
      "\u001b[31m✖\u001b[39m \u001b[34mdplyr\u001b[39m::\u001b[32mfilter()\u001b[39m masks \u001b[34mstats\u001b[39m::filter()\n",
      "\u001b[31m✖\u001b[39m \u001b[34mdplyr\u001b[39m::\u001b[32mlag()\u001b[39m    masks \u001b[34mstats\u001b[39m::lag()\n",
      "\n"
     ]
    }
   ],
   "source": [
    "library(tidyverse)"
   ]
  },
  {
   "cell_type": "code",
   "execution_count": 2,
   "id": "77407baf-d19d-4e92-a9cc-4624d1c5a2b6",
   "metadata": {},
   "outputs": [],
   "source": [
    "library(dplyr)"
   ]
  },
  {
   "cell_type": "markdown",
   "id": "dd6a47bd-9cb9-4355-bed5-932c69d5e565",
   "metadata": {},
   "source": [
    "Para regresión lineal utilizar los datos [maize_Bellon_Mastretta_extract.zip](https://drive.google.com/file/d/18LNkD9yttbCgAODIc2cLk42toGTceOkj/view?usp=sharing) los cuales se utilizan en el paper: [Evolutionary and food supply implications of ongoing maize domestication by Mexican campesinos](https://royalsocietypublishing.org/doi/10.1098/rspb.2018.1049). Realizar dos regresiones lineales:\n",
    "\n",
    "* Usar la variable rend2010 como variable respuesta y predictoras: Tmean_MayOct, Precipmean_MayOct, Precipsum_MayOct, Slope_mod, MedianAlt_med.\n",
    "\n",
    "* Usar la variable aper2010 como variable respuesta y predictoras: Tmean_MayOct, Precipmean_MayOct, Precipsum_MayOct, Slope_mod, MedianAlt_med.\n",
    "\n",
    "La descripción de las variables está en el archivo variable_codes.txt"
   ]
  },
  {
   "cell_type": "code",
   "execution_count": 3,
   "id": "a5e14cb0-7278-4f91-9cef-69a8f82e800e",
   "metadata": {},
   "outputs": [],
   "source": [
    "library(readr)"
   ]
  },
  {
   "cell_type": "code",
   "execution_count": 4,
   "id": "eba885bb-cbf2-4c09-b9a4-70d735b703a9",
   "metadata": {},
   "outputs": [
    {
     "name": "stderr",
     "output_type": "stream",
     "text": [
      "\u001b[1m\u001b[1mRows: \u001b[1m\u001b[22m\u001b[34m\u001b[34m2459\u001b[34m\u001b[39m \u001b[1m\u001b[1mColumns: \u001b[1m\u001b[22m\u001b[34m\u001b[34m17\u001b[34m\u001b[39m\n",
      "\n",
      "\u001b[36m──\u001b[39m \u001b[1m\u001b[1mColumn specification\u001b[1m\u001b[22m \u001b[36m────────────────────────────────────────────────────────\u001b[39m\n",
      "\u001b[1mDelimiter:\u001b[22m \",\"\n",
      "\u001b[31mchr\u001b[39m  (3): Idcode, NOM_ENT_1, NOM_MUN_1\n",
      "\u001b[32mdbl\u001b[39m (14): Tmean_MayOct, Precipmean_MayOct, Precipsum_MayOct, MedianAlt_med, ...\n",
      "\n",
      "\n",
      "\u001b[36mℹ\u001b[39m Use \u001b[30m\u001b[47m\u001b[30m\u001b[47m`spec()`\u001b[47m\u001b[30m\u001b[49m\u001b[39m to retrieve the full column specification for this data.\n",
      "\u001b[36mℹ\u001b[39m Specify the column types or set \u001b[30m\u001b[47m\u001b[30m\u001b[47m`show_col_types = FALSE`\u001b[47m\u001b[30m\u001b[49m\u001b[39m to quiet this message.\n",
      "\n"
     ]
    }
   ],
   "source": [
    "df_procampo <- read_csv(\"maize_Bellon_Mastretta_extract/procampo2010SIAP2010_envdata.csv\")"
   ]
  },
  {
   "cell_type": "code",
   "execution_count": 5,
   "id": "5bbba8a2-de1c-46f9-8b98-aa99aa640196",
   "metadata": {},
   "outputs": [
    {
     "name": "stdout",
     "output_type": "stream",
     "text": [
      "\u001b[90m# A tibble: 2,459 × 17\u001b[39m\n",
      "   Idcode NOM_ENT_1      NOM_MUN_1 Tmean_MayOct Precipmean_MayO… Precipsum_MayOct\n",
      "   \u001b[3m\u001b[90m<chr>\u001b[39m\u001b[23m  \u001b[3m\u001b[90m<chr>\u001b[39m\u001b[23m          \u001b[3m\u001b[90m<chr>\u001b[39m\u001b[23m            \u001b[3m\u001b[90m<dbl>\u001b[39m\u001b[23m            \u001b[3m\u001b[90m<dbl>\u001b[39m\u001b[23m            \u001b[3m\u001b[90m<dbl>\u001b[39m\u001b[23m\n",
      "\u001b[90m 1\u001b[39m 01001  Aguascalientes \u001b[90m\"\u001b[39mAguasca…         19.9             80.2             80.2\n",
      "\u001b[90m 2\u001b[39m 01004  Aguascalientes \u001b[90m\"\u001b[39mCos\\xed…         19.0             63.3             63.3\n",
      "\u001b[90m 3\u001b[39m 01005  Aguascalientes \u001b[90m\"\u001b[39mJes\\xfa…         19.5             83.3             83.3\n",
      "\u001b[90m 4\u001b[39m 01010  Aguascalientes \u001b[90m\"\u001b[39mEl Llan…         19.2             72.4             72.4\n",
      "\u001b[90m 5\u001b[39m 01011  Aguascalientes \u001b[90m\"\u001b[39mSan Fra…         19.4             71.4             71.4\n",
      "\u001b[90m 6\u001b[39m 10012  Durango        \u001b[90m\"\u001b[39mLerdo\u001b[90m\"\u001b[39m           24.5             40.8             40.8\n",
      "\u001b[90m 7\u001b[39m 10027  Durango        \u001b[90m\"\u001b[39mSan Jua…         21.3             43.4             43.4\n",
      "\u001b[90m 8\u001b[39m 13006  Hidalgo        \u001b[90m\"\u001b[39mAlfajay…         17.2             63.5             63.5\n",
      "\u001b[90m 9\u001b[39m 13023  Hidalgo        \u001b[90m\"\u001b[39mFrancis…         17.1             58.3             58.3\n",
      "\u001b[90m10\u001b[39m 13030  Hidalgo        \u001b[90m\"\u001b[39mIxmiqui…         17.6             60.3             60.3\n",
      "\u001b[90m# … with 2,449 more rows, and 11 more variables: MedianAlt_med <dbl>,\u001b[39m\n",
      "\u001b[90m#   Slope_mod <dbl>, aplt2010 <dbl>, yldclass <dbl>, acos2010 <dbl>,\u001b[39m\n",
      "\u001b[90m#   aper2010 <dbl>, aper10. <dbl>, prod2010 <dbl>, rend2010 <dbl>,\u001b[39m\n",
      "\u001b[90m#   prec2010 <dbl>, valo2010 <dbl>\u001b[39m\n"
     ]
    }
   ],
   "source": [
    "print(df_procampo)"
   ]
  },
  {
   "cell_type": "code",
   "execution_count": 6,
   "id": "21bff76c-6342-4310-9a33-09ac6570f6fe",
   "metadata": {},
   "outputs": [
    {
     "data": {
      "text/plain": [
       "cols(\n",
       "  Idcode = \u001b[31mcol_character()\u001b[39m,\n",
       "  NOM_ENT_1 = \u001b[31mcol_character()\u001b[39m,\n",
       "  NOM_MUN_1 = \u001b[31mcol_character()\u001b[39m,\n",
       "  Tmean_MayOct = \u001b[32mcol_double()\u001b[39m,\n",
       "  Precipmean_MayOct = \u001b[32mcol_double()\u001b[39m,\n",
       "  Precipsum_MayOct = \u001b[32mcol_double()\u001b[39m,\n",
       "  MedianAlt_med = \u001b[32mcol_double()\u001b[39m,\n",
       "  Slope_mod = \u001b[32mcol_double()\u001b[39m,\n",
       "  aplt2010 = \u001b[32mcol_double()\u001b[39m,\n",
       "  yldclass = \u001b[32mcol_double()\u001b[39m,\n",
       "  acos2010 = \u001b[32mcol_double()\u001b[39m,\n",
       "  aper2010 = \u001b[32mcol_double()\u001b[39m,\n",
       "  aper10. = \u001b[32mcol_double()\u001b[39m,\n",
       "  prod2010 = \u001b[32mcol_double()\u001b[39m,\n",
       "  rend2010 = \u001b[32mcol_double()\u001b[39m,\n",
       "  prec2010 = \u001b[32mcol_double()\u001b[39m,\n",
       "  valo2010 = \u001b[32mcol_double()\u001b[39m\n",
       ")"
      ]
     },
     "metadata": {},
     "output_type": "display_data"
    }
   ],
   "source": [
    "spec(df_procampo)"
   ]
  },
  {
   "cell_type": "code",
   "execution_count": 7,
   "id": "e1782220-7b3d-4e32-a97f-d6f427d6fc8e",
   "metadata": {},
   "outputs": [
    {
     "name": "stderr",
     "output_type": "stream",
     "text": [
      "Warning message in readLines(\"maize_Bellon_Mastretta_extract/variable_codes.txt\"):\n",
      "“incomplete final line found on 'maize_Bellon_Mastretta_extract/variable_codes.txt'”\n"
     ]
    },
    {
     "name": "stdout",
     "output_type": "stream",
     "text": [
      "Variable name\tExplanation\n",
      "Idcode\tMunicipality code\n",
      "aplt2010\tArea planted with maize in the municipality during the rainfed season 2010 from SIAP\n",
      "yldclass\tYield class (1 to 7)\n",
      "acos2010\tArea harvested of maize in the municipality during the rainfed season 2010 from SIAP\n",
      "aper2010\tArea planted in the municipality that was not harvested for 2010 (area lost) from SIAP\n",
      "prod2010\tTotal maize production in the municipality during the rainfed season 2010 SIAP\n",
      "rend2010\t yield (ton/ha) for that municipality for rainfed season 2010 from SIAP\n",
      "prec2010\tPrice (MXN pesos) per ton for 2010 from SIAP\n",
      "valo2010\tTotal value (thousand MXN pesos) of produciton (production * price) for 2010 from SIAP\n",
      "Tmean_MayOct\tMean temperature for the rainfed season\n",
      "Precipmean_MayOct\tMean precipitation for the rainfed season\n",
      "Precipsum_MayOct\tCummulative (sum) precipitation for the rainfed season\n",
      "Slope_mod\tMode of the slope\n",
      "MedianAlt_med\tMedian altitude\n",
      "\t\n",
      "\t\n",
      "\t\n",
      "\t\n",
      "\t\n",
      "\t\n",
      "\t\n",
      "\t\n",
      "\t\n",
      "\t\n",
      "\t\n",
      "\t\n",
      "\t\n",
      "\t\n",
      "\t\n",
      "\t\n",
      "\t\n",
      "\t\n",
      "\t\n",
      "\t\n",
      "\t\n",
      "\t\n",
      "\t\n",
      "\t\n",
      "\t\n",
      "\t\n",
      "\t\n",
      "\t\n",
      "\t\n",
      "\t\n",
      "\t\n",
      "\t\n",
      "\t\n",
      "\t\n",
      "\t\n",
      "\t\n",
      "\t\n",
      "\t\n",
      "\t\n",
      "\t\n",
      "\t\n",
      "\t\n",
      "\t\n",
      "\t\n"
     ]
    }
   ],
   "source": [
    "cat(readLines(\"maize_Bellon_Mastretta_extract/variable_codes.txt\"),sep=\"\\n\")"
   ]
  },
  {
   "cell_type": "code",
   "execution_count": 8,
   "id": "4e62e910-68a5-4050-ac86-1be99a35727f",
   "metadata": {},
   "outputs": [],
   "source": [
    "nom_ent_1_column <- select(df_procampo, NOM_ENT_1)"
   ]
  },
  {
   "cell_type": "code",
   "execution_count": 9,
   "id": "a6c56c76-4388-400f-87e3-f6ca67575428",
   "metadata": {},
   "outputs": [
    {
     "name": "stdout",
     "output_type": "stream",
     "text": [
      "\u001b[90m# A tibble: 2,459 × 1\u001b[39m\n",
      "   NOM_ENT_1     \n",
      "   \u001b[3m\u001b[90m<chr>\u001b[39m\u001b[23m         \n",
      "\u001b[90m 1\u001b[39m Aguascalientes\n",
      "\u001b[90m 2\u001b[39m Aguascalientes\n",
      "\u001b[90m 3\u001b[39m Aguascalientes\n",
      "\u001b[90m 4\u001b[39m Aguascalientes\n",
      "\u001b[90m 5\u001b[39m Aguascalientes\n",
      "\u001b[90m 6\u001b[39m Durango       \n",
      "\u001b[90m 7\u001b[39m Durango       \n",
      "\u001b[90m 8\u001b[39m Hidalgo       \n",
      "\u001b[90m 9\u001b[39m Hidalgo       \n",
      "\u001b[90m10\u001b[39m Hidalgo       \n",
      "\u001b[90m# … with 2,449 more rows\u001b[39m\n"
     ]
    }
   ],
   "source": [
    "print(nom_ent_1_column)"
   ]
  },
  {
   "cell_type": "code",
   "execution_count": 10,
   "id": "c9eb88b8-7282-41ef-afea-a2028be4f624",
   "metadata": {},
   "outputs": [],
   "source": [
    "unique_nom_ent <- unique(nom_ent_1_column)"
   ]
  },
  {
   "cell_type": "code",
   "execution_count": 11,
   "id": "490fa154-8fcd-42fa-a935-8346f1647657",
   "metadata": {},
   "outputs": [
    {
     "name": "stdout",
     "output_type": "stream",
     "text": [
      "\u001b[90m# A tibble: 33 × 1\u001b[39m\n",
      "   NOM_ENT_1                        \n",
      "   \u001b[3m\u001b[90m<chr>\u001b[39m\u001b[23m                            \n",
      "\u001b[90m 1\u001b[39m \u001b[90m\"\u001b[39mAguascalientes\u001b[90m\"\u001b[39m                 \n",
      "\u001b[90m 2\u001b[39m \u001b[90m\"\u001b[39mDurango\u001b[90m\"\u001b[39m                        \n",
      "\u001b[90m 3\u001b[39m \u001b[90m\"\u001b[39mHidalgo\u001b[90m\"\u001b[39m                        \n",
      "\u001b[90m 4\u001b[39m \u001b[90m\"\u001b[39mM\\xe9xico\u001b[90m\"\u001b[39m                      \n",
      "\u001b[90m 5\u001b[39m \u001b[90m\"\u001b[39mOaxaca\u001b[90m\"\u001b[39m                         \n",
      "\u001b[90m 6\u001b[39m \u001b[90m\"\u001b[39mPuebla\u001b[90m\"\u001b[39m                         \n",
      "\u001b[90m 7\u001b[39m \u001b[90m\"\u001b[39mSinaloa\u001b[90m\"\u001b[39m                        \n",
      "\u001b[90m 8\u001b[39m \u001b[90m\"\u001b[39mTabasco\u001b[90m\"\u001b[39m                        \n",
      "\u001b[90m 9\u001b[39m \u001b[90m\"\u001b[39mVeracruz de Ignacio de la Llave\u001b[90m\"\u001b[39m\n",
      "\u001b[90m10\u001b[39m \u001b[90m\"\u001b[39mSan Luis Potos\\xed\u001b[90m\"\u001b[39m             \n",
      "\u001b[90m# … with 23 more rows\u001b[39m\n"
     ]
    }
   ],
   "source": [
    "print(unique_nom_ent)"
   ]
  },
  {
   "cell_type": "code",
   "execution_count": 12,
   "id": "1b708f43-54a5-49d2-9724-a694984f6ddb",
   "metadata": {},
   "outputs": [
    {
     "name": "stdout",
     "output_type": "stream",
     "text": [
      "                         NOM_ENT_1\n",
      "1                   Aguascalientes\n",
      "2                          Durango\n",
      "3                          Hidalgo\n",
      "4                        M\\xe9xico\n",
      "5                           Oaxaca\n",
      "6                           Puebla\n",
      "7                          Sinaloa\n",
      "8                          Tabasco\n",
      "9  Veracruz de Ignacio de la Llave\n",
      "10              San Luis Potos\\xed\n",
      "11                       Zacatecas\n",
      "12                          Sonora\n",
      "13                      Guanajuato\n",
      "14                         Jalisco\n",
      "15                    Quintana Roo\n",
      "16                      Yucat\\xe1n\n",
      "17            Coahuila de Zaragoza\n",
      "18                    Quer\\xe9taro\n",
      "19                            <NA>\n",
      "20                       Chihuahua\n",
      "21                      Tamaulipas\n",
      "22                         Nayarit\n",
      "23                   Nuevo Le\\xf3n\n",
      "24                        Campeche\n",
      "25                        Guerrero\n",
      "26                         Chiapas\n",
      "27          Michoac\\xe1n de Ocampo\n",
      "28             Ciudad de M\\xe9xico\n",
      "29                        Tlaxcala\n",
      "30                         Morelos\n",
      "31                          Colima\n",
      "32                 Baja California\n",
      "33             Baja California Sur\n"
     ]
    }
   ],
   "source": [
    "print(as.data.frame(unique_nom_ent))"
   ]
  },
  {
   "cell_type": "markdown",
   "id": "7f66fcbd-e1ac-4e10-8a06-7dcb80698cd1",
   "metadata": {},
   "source": [
    "La siguiente lectura se propone en la liga [tidyverse/readr/issues/892](https://github.com/tidyverse/readr/issues/892)"
   ]
  },
  {
   "cell_type": "code",
   "execution_count": 13,
   "id": "29023210-8107-4165-a32f-30bac6863255",
   "metadata": {},
   "outputs": [
    {
     "name": "stderr",
     "output_type": "stream",
     "text": [
      "\u001b[1m\u001b[1mRows: \u001b[1m\u001b[22m\u001b[34m\u001b[34m2459\u001b[34m\u001b[39m \u001b[1m\u001b[1mColumns: \u001b[1m\u001b[22m\u001b[34m\u001b[34m17\u001b[34m\u001b[39m\n",
      "\n",
      "\u001b[36m──\u001b[39m \u001b[1m\u001b[1mColumn specification\u001b[1m\u001b[22m \u001b[36m────────────────────────────────────────────────────────\u001b[39m\n",
      "\u001b[1mDelimiter:\u001b[22m \",\"\n",
      "\u001b[31mchr\u001b[39m  (3): Idcode, NOM_ENT_1, NOM_MUN_1\n",
      "\u001b[32mdbl\u001b[39m (14): Tmean_MayOct, Precipmean_MayOct, Precipsum_MayOct, MedianAlt_med, ...\n",
      "\n",
      "\n",
      "\u001b[36mℹ\u001b[39m Use \u001b[30m\u001b[47m\u001b[30m\u001b[47m`spec()`\u001b[47m\u001b[30m\u001b[49m\u001b[39m to retrieve the full column specification for this data.\n",
      "\u001b[36mℹ\u001b[39m Specify the column types or set \u001b[30m\u001b[47m\u001b[30m\u001b[47m`show_col_types = FALSE`\u001b[47m\u001b[30m\u001b[49m\u001b[39m to quiet this message.\n",
      "\n"
     ]
    }
   ],
   "source": [
    "df_procampo <- read_csv(\"maize_Bellon_Mastretta_extract/procampo2010SIAP2010_envdata.csv\",\n",
    "                        locale = readr::locale(encoding = \"latin1\"))"
   ]
  },
  {
   "cell_type": "code",
   "execution_count": 14,
   "id": "529afc5e-b63d-4682-91c9-e7187ca91370",
   "metadata": {},
   "outputs": [],
   "source": [
    "nom_ent_1_column <- select(df_procampo, NOM_ENT_1)"
   ]
  },
  {
   "cell_type": "code",
   "execution_count": 15,
   "id": "d25f7a9a-491d-4746-83ad-d02b4b2bd02f",
   "metadata": {},
   "outputs": [
    {
     "name": "stdout",
     "output_type": "stream",
     "text": [
      "\u001b[90m# A tibble: 2,459 × 1\u001b[39m\n",
      "   NOM_ENT_1     \n",
      "   \u001b[3m\u001b[90m<chr>\u001b[39m\u001b[23m         \n",
      "\u001b[90m 1\u001b[39m Aguascalientes\n",
      "\u001b[90m 2\u001b[39m Aguascalientes\n",
      "\u001b[90m 3\u001b[39m Aguascalientes\n",
      "\u001b[90m 4\u001b[39m Aguascalientes\n",
      "\u001b[90m 5\u001b[39m Aguascalientes\n",
      "\u001b[90m 6\u001b[39m Durango       \n",
      "\u001b[90m 7\u001b[39m Durango       \n",
      "\u001b[90m 8\u001b[39m Hidalgo       \n",
      "\u001b[90m 9\u001b[39m Hidalgo       \n",
      "\u001b[90m10\u001b[39m Hidalgo       \n",
      "\u001b[90m# … with 2,449 more rows\u001b[39m\n"
     ]
    }
   ],
   "source": [
    "print(nom_ent_1_column)"
   ]
  },
  {
   "cell_type": "code",
   "execution_count": 16,
   "id": "0b30a4f2-ef82-4a1f-ab8b-74475eef9214",
   "metadata": {},
   "outputs": [],
   "source": [
    "unique_nom_ent <- unique(nom_ent_1_column)"
   ]
  },
  {
   "cell_type": "code",
   "execution_count": 17,
   "id": "8608a461-881b-4715-914b-9f9a26147ead",
   "metadata": {},
   "outputs": [
    {
     "name": "stdout",
     "output_type": "stream",
     "text": [
      "\u001b[90m# A tibble: 33 × 1\u001b[39m\n",
      "   NOM_ENT_1                      \n",
      "   \u001b[3m\u001b[90m<chr>\u001b[39m\u001b[23m                          \n",
      "\u001b[90m 1\u001b[39m Aguascalientes                 \n",
      "\u001b[90m 2\u001b[39m Durango                        \n",
      "\u001b[90m 3\u001b[39m Hidalgo                        \n",
      "\u001b[90m 4\u001b[39m México                         \n",
      "\u001b[90m 5\u001b[39m Oaxaca                         \n",
      "\u001b[90m 6\u001b[39m Puebla                         \n",
      "\u001b[90m 7\u001b[39m Sinaloa                        \n",
      "\u001b[90m 8\u001b[39m Tabasco                        \n",
      "\u001b[90m 9\u001b[39m Veracruz de Ignacio de la Llave\n",
      "\u001b[90m10\u001b[39m San Luis Potosí                \n",
      "\u001b[90m# … with 23 more rows\u001b[39m\n"
     ]
    }
   ],
   "source": [
    "print(unique_nom_ent)"
   ]
  },
  {
   "cell_type": "code",
   "execution_count": 18,
   "id": "bcdf5717-5a45-4b2b-a183-3d752e2b2bbb",
   "metadata": {},
   "outputs": [
    {
     "name": "stdout",
     "output_type": "stream",
     "text": [
      "                         NOM_ENT_1\n",
      "1                   Aguascalientes\n",
      "2                          Durango\n",
      "3                          Hidalgo\n",
      "4                           México\n",
      "5                           Oaxaca\n",
      "6                           Puebla\n",
      "7                          Sinaloa\n",
      "8                          Tabasco\n",
      "9  Veracruz de Ignacio de la Llave\n",
      "10                 San Luis Potosí\n",
      "11                       Zacatecas\n",
      "12                          Sonora\n",
      "13                      Guanajuato\n",
      "14                         Jalisco\n",
      "15                    Quintana Roo\n",
      "16                         Yucatán\n",
      "17            Coahuila de Zaragoza\n",
      "18                       Querétaro\n",
      "19                            <NA>\n",
      "20                       Chihuahua\n",
      "21                      Tamaulipas\n",
      "22                         Nayarit\n",
      "23                      Nuevo León\n",
      "24                        Campeche\n",
      "25                        Guerrero\n",
      "26                         Chiapas\n",
      "27             Michoacán de Ocampo\n",
      "28                Ciudad de México\n",
      "29                        Tlaxcala\n",
      "30                         Morelos\n",
      "31                          Colima\n",
      "32                 Baja California\n",
      "33             Baja California Sur\n"
     ]
    }
   ],
   "source": [
    "print(as.data.frame(unique_nom_ent))"
   ]
  },
  {
   "cell_type": "code",
   "execution_count": 19,
   "id": "b6c1c6b3-9b27-42df-bf4b-355b28f62c6f",
   "metadata": {},
   "outputs": [
    {
     "name": "stdout",
     "output_type": "stream",
     "text": [
      "\u001b[90m# A tibble: 11 × 17\u001b[39m\n",
      "   Idcode NOM_ENT_1      NOM_MUN_1 Tmean_MayOct Precipmean_MayO… Precipsum_MayOct\n",
      "   \u001b[3m\u001b[90m<chr>\u001b[39m\u001b[23m  \u001b[3m\u001b[90m<chr>\u001b[39m\u001b[23m          \u001b[3m\u001b[90m<chr>\u001b[39m\u001b[23m            \u001b[3m\u001b[90m<dbl>\u001b[39m\u001b[23m            \u001b[3m\u001b[90m<dbl>\u001b[39m\u001b[23m            \u001b[3m\u001b[90m<dbl>\u001b[39m\u001b[23m\n",
      "\u001b[90m 1\u001b[39m 01001  Aguascalientes Aguascal…         19.9             80.2             80.2\n",
      "\u001b[90m 2\u001b[39m 01004  Aguascalientes Cosío             19.0             63.3             63.3\n",
      "\u001b[90m 3\u001b[39m 01005  Aguascalientes Jesús Ma…         19.5             83.3             83.3\n",
      "\u001b[90m 4\u001b[39m 01010  Aguascalientes El Llano          19.2             72.4             72.4\n",
      "\u001b[90m 5\u001b[39m 01011  Aguascalientes San Fran…         19.4             71.4             71.4\n",
      "\u001b[90m 6\u001b[39m 01002  Aguascalientes Asientos          19.0             66.4             66.4\n",
      "\u001b[90m 7\u001b[39m 01006  Aguascalientes Pabellón…         19.6             70.4             70.4\n",
      "\u001b[90m 8\u001b[39m 01009  Aguascalientes Tepezalá          19.1             64.2             64.2\n",
      "\u001b[90m 9\u001b[39m 01003  Aguascalientes Calvillo          20.2             92.8             92.8\n",
      "\u001b[90m10\u001b[39m 01007  Aguascalientes Rincón d…         19.0             70.9             70.9\n",
      "\u001b[90m11\u001b[39m 01008  Aguascalientes San José…         18.4             83.9             83.9\n",
      "\u001b[90m# … with 11 more variables: MedianAlt_med <dbl>, Slope_mod <dbl>,\u001b[39m\n",
      "\u001b[90m#   aplt2010 <dbl>, yldclass <dbl>, acos2010 <dbl>, aper2010 <dbl>,\u001b[39m\n",
      "\u001b[90m#   aper10. <dbl>, prod2010 <dbl>, rend2010 <dbl>, prec2010 <dbl>,\u001b[39m\n",
      "\u001b[90m#   valo2010 <dbl>\u001b[39m\n"
     ]
    }
   ],
   "source": [
    "print(filter(df_procampo, NOM_ENT_1 == \"Aguascalientes\"))"
   ]
  },
  {
   "cell_type": "code",
   "execution_count": 20,
   "id": "a6f593f8-0e9f-411a-862a-a86cfdc39882",
   "metadata": {},
   "outputs": [],
   "source": [
    "aguascalientes_df <- filter(df_procampo, NOM_ENT_1 == \"Aguascalientes\")"
   ]
  },
  {
   "cell_type": "code",
   "execution_count": 21,
   "id": "e77f9984-ce7b-446d-bd0d-1a82ad7810d5",
   "metadata": {},
   "outputs": [
    {
     "name": "stdout",
     "output_type": "stream",
     "text": [
      "\u001b[90m# A tibble: 11 × 17\u001b[39m\n",
      "   Idcode NOM_ENT_1      NOM_MUN_1 Tmean_MayOct Precipmean_MayO… Precipsum_MayOct\n",
      "   \u001b[3m\u001b[90m<chr>\u001b[39m\u001b[23m  \u001b[3m\u001b[90m<chr>\u001b[39m\u001b[23m          \u001b[3m\u001b[90m<chr>\u001b[39m\u001b[23m            \u001b[3m\u001b[90m<dbl>\u001b[39m\u001b[23m            \u001b[3m\u001b[90m<dbl>\u001b[39m\u001b[23m            \u001b[3m\u001b[90m<dbl>\u001b[39m\u001b[23m\n",
      "\u001b[90m 1\u001b[39m 01001  Aguascalientes Aguascal…         19.9             80.2             80.2\n",
      "\u001b[90m 2\u001b[39m 01004  Aguascalientes Cosío             19.0             63.3             63.3\n",
      "\u001b[90m 3\u001b[39m 01005  Aguascalientes Jesús Ma…         19.5             83.3             83.3\n",
      "\u001b[90m 4\u001b[39m 01010  Aguascalientes El Llano          19.2             72.4             72.4\n",
      "\u001b[90m 5\u001b[39m 01011  Aguascalientes San Fran…         19.4             71.4             71.4\n",
      "\u001b[90m 6\u001b[39m 01002  Aguascalientes Asientos          19.0             66.4             66.4\n",
      "\u001b[90m 7\u001b[39m 01006  Aguascalientes Pabellón…         19.6             70.4             70.4\n",
      "\u001b[90m 8\u001b[39m 01009  Aguascalientes Tepezalá          19.1             64.2             64.2\n",
      "\u001b[90m 9\u001b[39m 01003  Aguascalientes Calvillo          20.2             92.8             92.8\n",
      "\u001b[90m10\u001b[39m 01007  Aguascalientes Rincón d…         19.0             70.9             70.9\n",
      "\u001b[90m11\u001b[39m 01008  Aguascalientes San José…         18.4             83.9             83.9\n",
      "\u001b[90m# … with 11 more variables: MedianAlt_med <dbl>, Slope_mod <dbl>,\u001b[39m\n",
      "\u001b[90m#   aplt2010 <dbl>, yldclass <dbl>, acos2010 <dbl>, aper2010 <dbl>,\u001b[39m\n",
      "\u001b[90m#   aper10. <dbl>, prod2010 <dbl>, rend2010 <dbl>, prec2010 <dbl>,\u001b[39m\n",
      "\u001b[90m#   valo2010 <dbl>\u001b[39m\n"
     ]
    }
   ],
   "source": [
    "print(aguascalientes_df)"
   ]
  },
  {
   "cell_type": "markdown",
   "id": "e925bc7b-a607-4b44-8043-79294d6a9f57",
   "metadata": {},
   "source": [
    "Con la siguiente instrucción verificamos que exista al menos un NA"
   ]
  },
  {
   "cell_type": "code",
   "execution_count": 22,
   "id": "bdeb6d52-4e4a-476e-a136-7040a99df412",
   "metadata": {},
   "outputs": [
    {
     "data": {
      "text/html": [
       "TRUE"
      ],
      "text/latex": [
       "TRUE"
      ],
      "text/markdown": [
       "TRUE"
      ],
      "text/plain": [
       "[1] TRUE"
      ]
     },
     "metadata": {},
     "output_type": "display_data"
    }
   ],
   "source": [
    "any(is.na(df_procampo))"
   ]
  },
  {
   "cell_type": "markdown",
   "id": "95bd9b6a-814d-44f0-a8ff-2d2d9074929e",
   "metadata": {},
   "source": [
    "Tenemos varios NA veamos el siguiente ejemplo para eliminar los renglones con NA:"
   ]
  },
  {
   "cell_type": "code",
   "execution_count": 23,
   "id": "289a7794-109a-475f-b31b-57ce3b728e0a",
   "metadata": {},
   "outputs": [
    {
     "name": "stdout",
     "output_type": "stream",
     "text": [
      "[1] \"Col1\" \"Col2\" \"Col3\" \"Col4\"\n",
      "   Col1       Col2 Col3        Col4\n",
      "1     1 0.31714382   NA          NA\n",
      "2     2 0.30082605   NA          NA\n",
      "3     3 0.87595949    6 -1.54381836\n",
      "4     4 0.66176345    8  0.20395201\n",
      "5     5 0.72433128    1 -0.59500302\n",
      "6     6 0.47912419    2 -0.01860151\n",
      "7     7 0.77175826    3  0.29638864\n",
      "8     8 0.09637220   NA  0.67221693\n",
      "9     9 0.07049597    4  1.63340214\n",
      "10   10 0.20596350    5 -0.97145383\n",
      "11   11 0.04557989    7 -1.93308705\n",
      "12   12 0.26591529   NA -0.75477163\n",
      "13   NA 0.38199553   NA -0.77944151\n",
      "14   NA 0.30933317   NA  0.31179162\n",
      "15   NA 0.85123356   NA -1.09529738\n"
     ]
    }
   ],
   "source": [
    "n <- 4\n",
    "m <- 15\n",
    "vec_colnames <- paste(\"Col\", seq(1, n), sep=\"\")\n",
    "print(vec_colnames)\n",
    "vec_values <- data.frame(c(seq(1,m-3),rep(NA,3)), runif(m), sample(c(seq(1, m-7),rep(NA, 7))),\n",
    "                         c(rep(NA,2),rnorm(m-2)))\n",
    "colnames(vec_values) <- vec_colnames\n",
    "print(vec_values)"
   ]
  },
  {
   "cell_type": "code",
   "execution_count": 24,
   "id": "d237682c-310a-4d32-9ebd-1eabbf3472bf",
   "metadata": {},
   "outputs": [
    {
     "data": {
      "text/html": [
       "TRUE"
      ],
      "text/latex": [
       "TRUE"
      ],
      "text/markdown": [
       "TRUE"
      ],
      "text/plain": [
       "[1] TRUE"
      ]
     },
     "metadata": {},
     "output_type": "display_data"
    }
   ],
   "source": [
    "any(is.na(vec_values))"
   ]
  },
  {
   "cell_type": "code",
   "execution_count": 25,
   "id": "015b2d75-a855-4917-9058-a9d7ed9c63ba",
   "metadata": {},
   "outputs": [],
   "source": [
    "idx <- apply(vec_values, 1, anyNA) #el 1 indica aplicar la función por renglón"
   ]
  },
  {
   "cell_type": "code",
   "execution_count": 26,
   "id": "48ae72e5-1ad7-4467-a3f7-e426913067ec",
   "metadata": {},
   "outputs": [
    {
     "name": "stdout",
     "output_type": "stream",
     "text": [
      " [1]  TRUE  TRUE FALSE FALSE FALSE FALSE FALSE  TRUE FALSE FALSE FALSE  TRUE\n",
      "[13]  TRUE  TRUE  TRUE\n"
     ]
    }
   ],
   "source": [
    "print(idx)"
   ]
  },
  {
   "cell_type": "code",
   "execution_count": 27,
   "id": "9005cb53-6a60-480e-9a31-24eed23c8a5a",
   "metadata": {},
   "outputs": [
    {
     "name": "stdout",
     "output_type": "stream",
     "text": [
      "   Col1      Col2 Col3       Col4\n",
      "1     1 0.3171438   NA         NA\n",
      "2     2 0.3008260   NA         NA\n",
      "8     8 0.0963722   NA  0.6722169\n",
      "12   12 0.2659153   NA -0.7547716\n",
      "13   NA 0.3819955   NA -0.7794415\n",
      "14   NA 0.3093332   NA  0.3117916\n",
      "15   NA 0.8512336   NA -1.0952974\n"
     ]
    }
   ],
   "source": [
    "print(vec_values[idx,]) #renglón con al menos un NA"
   ]
  },
  {
   "cell_type": "code",
   "execution_count": 28,
   "id": "8d7f41d0-6b7d-4e0f-ac95-6bda2d15ab2e",
   "metadata": {},
   "outputs": [
    {
     "name": "stdout",
     "output_type": "stream",
     "text": [
      "   Col1       Col2 Col3        Col4\n",
      "3     3 0.87595949    6 -1.54381836\n",
      "4     4 0.66176345    8  0.20395201\n",
      "5     5 0.72433128    1 -0.59500302\n",
      "6     6 0.47912419    2 -0.01860151\n",
      "7     7 0.77175826    3  0.29638864\n",
      "9     9 0.07049597    4  1.63340214\n",
      "10   10 0.20596350    5 -0.97145383\n",
      "11   11 0.04557989    7 -1.93308705\n"
     ]
    }
   ],
   "source": [
    "print(vec_values[!idx,]) #renglones sin NA"
   ]
  },
  {
   "cell_type": "code",
   "execution_count": 29,
   "id": "d0465a4e-41fe-4aed-9c81-0f13de44a1cd",
   "metadata": {},
   "outputs": [],
   "source": [
    "idx <- apply(df_procampo, 1, anyNA)"
   ]
  },
  {
   "cell_type": "code",
   "execution_count": 30,
   "id": "dfc1f994-4685-4a80-b105-b9d7542f2047",
   "metadata": {},
   "outputs": [],
   "source": [
    "df_procampo_no_NA <- df_procampo[!idx,]"
   ]
  },
  {
   "cell_type": "code",
   "execution_count": 31,
   "id": "c9933aa8-b236-4790-acd7-b322d6af3ee3",
   "metadata": {},
   "outputs": [
    {
     "data": {
      "text/html": [
       "<table class=\"dataframe\">\n",
       "<caption>A tibble: 6 × 17</caption>\n",
       "<thead>\n",
       "\t<tr><th scope=col>Idcode</th><th scope=col>NOM_ENT_1</th><th scope=col>NOM_MUN_1</th><th scope=col>Tmean_MayOct</th><th scope=col>Precipmean_MayOct</th><th scope=col>Precipsum_MayOct</th><th scope=col>MedianAlt_med</th><th scope=col>Slope_mod</th><th scope=col>aplt2010</th><th scope=col>yldclass</th><th scope=col>acos2010</th><th scope=col>aper2010</th><th scope=col>aper10.</th><th scope=col>prod2010</th><th scope=col>rend2010</th><th scope=col>prec2010</th><th scope=col>valo2010</th></tr>\n",
       "\t<tr><th scope=col>&lt;chr&gt;</th><th scope=col>&lt;chr&gt;</th><th scope=col>&lt;chr&gt;</th><th scope=col>&lt;dbl&gt;</th><th scope=col>&lt;dbl&gt;</th><th scope=col>&lt;dbl&gt;</th><th scope=col>&lt;dbl&gt;</th><th scope=col>&lt;dbl&gt;</th><th scope=col>&lt;dbl&gt;</th><th scope=col>&lt;dbl&gt;</th><th scope=col>&lt;dbl&gt;</th><th scope=col>&lt;dbl&gt;</th><th scope=col>&lt;dbl&gt;</th><th scope=col>&lt;dbl&gt;</th><th scope=col>&lt;dbl&gt;</th><th scope=col>&lt;dbl&gt;</th><th scope=col>&lt;dbl&gt;</th></tr>\n",
       "</thead>\n",
       "<tbody>\n",
       "\t<tr><td>01001</td><td>Aguascalientes</td><td>Aguascalientes           </td><td>19.86635</td><td>80.18016</td><td>80.18016</td><td>1911.733</td><td>3.0357237</td><td>4383</td><td>1</td><td>0</td><td>4383</td><td>1</td><td>0</td><td>0</td><td>0</td><td>0</td></tr>\n",
       "\t<tr><td>01004</td><td>Aguascalientes</td><td>Cosío                    </td><td>18.95824</td><td>63.26682</td><td>63.26682</td><td>2026.669</td><td>3.4808774</td><td>2296</td><td>1</td><td>0</td><td>2296</td><td>1</td><td>0</td><td>0</td><td>0</td><td>0</td></tr>\n",
       "\t<tr><td>01005</td><td>Aguascalientes</td><td>Jesús María              </td><td>19.52609</td><td>83.25196</td><td>83.25196</td><td>1979.000</td><td>5.3435235</td><td> 200</td><td>1</td><td>0</td><td> 200</td><td>1</td><td>0</td><td>0</td><td>0</td><td>0</td></tr>\n",
       "\t<tr><td>01010</td><td>Aguascalientes</td><td>El Llano                 </td><td>19.20043</td><td>72.38775</td><td>72.38775</td><td>2022.750</td><td>1.7989887</td><td>8363</td><td>1</td><td>0</td><td>8363</td><td>1</td><td>0</td><td>0</td><td>0</td><td>0</td></tr>\n",
       "\t<tr><td>01011</td><td>Aguascalientes</td><td>San Francisco de los Romo</td><td>19.44668</td><td>71.37154</td><td>71.37154</td><td>1963.966</td><td>2.0531964</td><td> 310</td><td>1</td><td>0</td><td> 310</td><td>1</td><td>0</td><td>0</td><td>0</td><td>0</td></tr>\n",
       "\t<tr><td>10012</td><td>Durango       </td><td>Lerdo                    </td><td>24.50609</td><td>40.82719</td><td>40.82719</td><td>1353.105</td><td>0.3735175</td><td>  12</td><td>1</td><td>0</td><td>  12</td><td>1</td><td>0</td><td>0</td><td>0</td><td>0</td></tr>\n",
       "</tbody>\n",
       "</table>\n"
      ],
      "text/latex": [
       "A tibble: 6 × 17\n",
       "\\begin{tabular}{lllllllllllllllll}\n",
       " Idcode & NOM\\_ENT\\_1 & NOM\\_MUN\\_1 & Tmean\\_MayOct & Precipmean\\_MayOct & Precipsum\\_MayOct & MedianAlt\\_med & Slope\\_mod & aplt2010 & yldclass & acos2010 & aper2010 & aper10. & prod2010 & rend2010 & prec2010 & valo2010\\\\\n",
       " <chr> & <chr> & <chr> & <dbl> & <dbl> & <dbl> & <dbl> & <dbl> & <dbl> & <dbl> & <dbl> & <dbl> & <dbl> & <dbl> & <dbl> & <dbl> & <dbl>\\\\\n",
       "\\hline\n",
       "\t 01001 & Aguascalientes & Aguascalientes            & 19.86635 & 80.18016 & 80.18016 & 1911.733 & 3.0357237 & 4383 & 1 & 0 & 4383 & 1 & 0 & 0 & 0 & 0\\\\\n",
       "\t 01004 & Aguascalientes & Cosío                     & 18.95824 & 63.26682 & 63.26682 & 2026.669 & 3.4808774 & 2296 & 1 & 0 & 2296 & 1 & 0 & 0 & 0 & 0\\\\\n",
       "\t 01005 & Aguascalientes & Jesús María               & 19.52609 & 83.25196 & 83.25196 & 1979.000 & 5.3435235 &  200 & 1 & 0 &  200 & 1 & 0 & 0 & 0 & 0\\\\\n",
       "\t 01010 & Aguascalientes & El Llano                  & 19.20043 & 72.38775 & 72.38775 & 2022.750 & 1.7989887 & 8363 & 1 & 0 & 8363 & 1 & 0 & 0 & 0 & 0\\\\\n",
       "\t 01011 & Aguascalientes & San Francisco de los Romo & 19.44668 & 71.37154 & 71.37154 & 1963.966 & 2.0531964 &  310 & 1 & 0 &  310 & 1 & 0 & 0 & 0 & 0\\\\\n",
       "\t 10012 & Durango        & Lerdo                     & 24.50609 & 40.82719 & 40.82719 & 1353.105 & 0.3735175 &   12 & 1 & 0 &   12 & 1 & 0 & 0 & 0 & 0\\\\\n",
       "\\end{tabular}\n"
      ],
      "text/markdown": [
       "\n",
       "A tibble: 6 × 17\n",
       "\n",
       "| Idcode &lt;chr&gt; | NOM_ENT_1 &lt;chr&gt; | NOM_MUN_1 &lt;chr&gt; | Tmean_MayOct &lt;dbl&gt; | Precipmean_MayOct &lt;dbl&gt; | Precipsum_MayOct &lt;dbl&gt; | MedianAlt_med &lt;dbl&gt; | Slope_mod &lt;dbl&gt; | aplt2010 &lt;dbl&gt; | yldclass &lt;dbl&gt; | acos2010 &lt;dbl&gt; | aper2010 &lt;dbl&gt; | aper10. &lt;dbl&gt; | prod2010 &lt;dbl&gt; | rend2010 &lt;dbl&gt; | prec2010 &lt;dbl&gt; | valo2010 &lt;dbl&gt; |\n",
       "|---|---|---|---|---|---|---|---|---|---|---|---|---|---|---|---|---|\n",
       "| 01001 | Aguascalientes | Aguascalientes            | 19.86635 | 80.18016 | 80.18016 | 1911.733 | 3.0357237 | 4383 | 1 | 0 | 4383 | 1 | 0 | 0 | 0 | 0 |\n",
       "| 01004 | Aguascalientes | Cosío                     | 18.95824 | 63.26682 | 63.26682 | 2026.669 | 3.4808774 | 2296 | 1 | 0 | 2296 | 1 | 0 | 0 | 0 | 0 |\n",
       "| 01005 | Aguascalientes | Jesús María               | 19.52609 | 83.25196 | 83.25196 | 1979.000 | 5.3435235 |  200 | 1 | 0 |  200 | 1 | 0 | 0 | 0 | 0 |\n",
       "| 01010 | Aguascalientes | El Llano                  | 19.20043 | 72.38775 | 72.38775 | 2022.750 | 1.7989887 | 8363 | 1 | 0 | 8363 | 1 | 0 | 0 | 0 | 0 |\n",
       "| 01011 | Aguascalientes | San Francisco de los Romo | 19.44668 | 71.37154 | 71.37154 | 1963.966 | 2.0531964 |  310 | 1 | 0 |  310 | 1 | 0 | 0 | 0 | 0 |\n",
       "| 10012 | Durango        | Lerdo                     | 24.50609 | 40.82719 | 40.82719 | 1353.105 | 0.3735175 |   12 | 1 | 0 |   12 | 1 | 0 | 0 | 0 | 0 |\n",
       "\n"
      ],
      "text/plain": [
       "  Idcode NOM_ENT_1      NOM_MUN_1                 Tmean_MayOct\n",
       "1 01001  Aguascalientes Aguascalientes            19.86635    \n",
       "2 01004  Aguascalientes Cosío                     18.95824    \n",
       "3 01005  Aguascalientes Jesús María               19.52609    \n",
       "4 01010  Aguascalientes El Llano                  19.20043    \n",
       "5 01011  Aguascalientes San Francisco de los Romo 19.44668    \n",
       "6 10012  Durango        Lerdo                     24.50609    \n",
       "  Precipmean_MayOct Precipsum_MayOct MedianAlt_med Slope_mod aplt2010 yldclass\n",
       "1 80.18016          80.18016         1911.733      3.0357237 4383     1       \n",
       "2 63.26682          63.26682         2026.669      3.4808774 2296     1       \n",
       "3 83.25196          83.25196         1979.000      5.3435235  200     1       \n",
       "4 72.38775          72.38775         2022.750      1.7989887 8363     1       \n",
       "5 71.37154          71.37154         1963.966      2.0531964  310     1       \n",
       "6 40.82719          40.82719         1353.105      0.3735175   12     1       \n",
       "  acos2010 aper2010 aper10. prod2010 rend2010 prec2010 valo2010\n",
       "1 0        4383     1       0        0        0        0       \n",
       "2 0        2296     1       0        0        0        0       \n",
       "3 0         200     1       0        0        0        0       \n",
       "4 0        8363     1       0        0        0        0       \n",
       "5 0         310     1       0        0        0        0       \n",
       "6 0          12     1       0        0        0        0       "
      ]
     },
     "metadata": {},
     "output_type": "display_data"
    }
   ],
   "source": [
    "head(df_procampo_no_NA)"
   ]
  },
  {
   "cell_type": "markdown",
   "id": "38061dd7-d779-47fc-9f60-cc6109167e1c",
   "metadata": {},
   "source": [
    "Ya no tenemos NA"
   ]
  },
  {
   "cell_type": "code",
   "execution_count": 32,
   "id": "6092d2dd-916d-43f9-b041-77d54cf48800",
   "metadata": {},
   "outputs": [
    {
     "data": {
      "text/html": [
       "FALSE"
      ],
      "text/latex": [
       "FALSE"
      ],
      "text/markdown": [
       "FALSE"
      ],
      "text/plain": [
       "[1] FALSE"
      ]
     },
     "metadata": {},
     "output_type": "display_data"
    }
   ],
   "source": [
    "any(is.na(df_procampo_no_NA))"
   ]
  },
  {
   "cell_type": "markdown",
   "id": "c00142ac-0789-4208-90c1-b70961f796e4",
   "metadata": {},
   "source": [
    "Modificar nombre de columna"
   ]
  },
  {
   "cell_type": "code",
   "execution_count": 33,
   "id": "a7257127-bcba-4c8c-87b8-3b509e63d783",
   "metadata": {},
   "outputs": [
    {
     "data": {
      "text/html": [
       "<style>\n",
       ".list-inline {list-style: none; margin:0; padding: 0}\n",
       ".list-inline>li {display: inline-block}\n",
       ".list-inline>li:not(:last-child)::after {content: \"\\00b7\"; padding: 0 .5ex}\n",
       "</style>\n",
       "<ol class=list-inline><li>'Idcode'</li><li>'NOM_ENT_1'</li><li>'NOM_MUN_1'</li><li>'Tmean_MayOct'</li><li>'Precipmean_MayOct'</li><li>'Precipsum_MayOct'</li><li>'MedianAlt_med'</li><li>'Slope_mod'</li><li>'aplt2010'</li><li>'yldclass'</li><li>'acos2010'</li><li>'aper2010'</li><li>'aper10.'</li><li>'prod2010'</li><li>'rend2010'</li><li>'prec2010'</li><li>'valo2010'</li></ol>\n"
      ],
      "text/latex": [
       "\\begin{enumerate*}\n",
       "\\item 'Idcode'\n",
       "\\item 'NOM\\_ENT\\_1'\n",
       "\\item 'NOM\\_MUN\\_1'\n",
       "\\item 'Tmean\\_MayOct'\n",
       "\\item 'Precipmean\\_MayOct'\n",
       "\\item 'Precipsum\\_MayOct'\n",
       "\\item 'MedianAlt\\_med'\n",
       "\\item 'Slope\\_mod'\n",
       "\\item 'aplt2010'\n",
       "\\item 'yldclass'\n",
       "\\item 'acos2010'\n",
       "\\item 'aper2010'\n",
       "\\item 'aper10.'\n",
       "\\item 'prod2010'\n",
       "\\item 'rend2010'\n",
       "\\item 'prec2010'\n",
       "\\item 'valo2010'\n",
       "\\end{enumerate*}\n"
      ],
      "text/markdown": [
       "1. 'Idcode'\n",
       "2. 'NOM_ENT_1'\n",
       "3. 'NOM_MUN_1'\n",
       "4. 'Tmean_MayOct'\n",
       "5. 'Precipmean_MayOct'\n",
       "6. 'Precipsum_MayOct'\n",
       "7. 'MedianAlt_med'\n",
       "8. 'Slope_mod'\n",
       "9. 'aplt2010'\n",
       "10. 'yldclass'\n",
       "11. 'acos2010'\n",
       "12. 'aper2010'\n",
       "13. 'aper10.'\n",
       "14. 'prod2010'\n",
       "15. 'rend2010'\n",
       "16. 'prec2010'\n",
       "17. 'valo2010'\n",
       "\n",
       "\n"
      ],
      "text/plain": [
       " [1] \"Idcode\"            \"NOM_ENT_1\"         \"NOM_MUN_1\"        \n",
       " [4] \"Tmean_MayOct\"      \"Precipmean_MayOct\" \"Precipsum_MayOct\" \n",
       " [7] \"MedianAlt_med\"     \"Slope_mod\"         \"aplt2010\"         \n",
       "[10] \"yldclass\"          \"acos2010\"          \"aper2010\"         \n",
       "[13] \"aper10.\"           \"prod2010\"          \"rend2010\"         \n",
       "[16] \"prec2010\"          \"valo2010\"         "
      ]
     },
     "metadata": {},
     "output_type": "display_data"
    }
   ],
   "source": [
    "colnames(df_procampo_no_NA)"
   ]
  },
  {
   "cell_type": "code",
   "execution_count": 34,
   "id": "d67d6caa-a28c-49d3-9506-fa45decb2273",
   "metadata": {},
   "outputs": [],
   "source": [
    "df_procampo_no_NA_renamed <- rename(df_procampo_no_NA, aper10 = aper10.)"
   ]
  },
  {
   "cell_type": "code",
   "execution_count": 35,
   "id": "61929daf-a69f-4a62-9851-a0f69977848b",
   "metadata": {},
   "outputs": [
    {
     "data": {
      "text/html": [
       "<style>\n",
       ".list-inline {list-style: none; margin:0; padding: 0}\n",
       ".list-inline>li {display: inline-block}\n",
       ".list-inline>li:not(:last-child)::after {content: \"\\00b7\"; padding: 0 .5ex}\n",
       "</style>\n",
       "<ol class=list-inline><li>'Idcode'</li><li>'NOM_ENT_1'</li><li>'NOM_MUN_1'</li><li>'Tmean_MayOct'</li><li>'Precipmean_MayOct'</li><li>'Precipsum_MayOct'</li><li>'MedianAlt_med'</li><li>'Slope_mod'</li><li>'aplt2010'</li><li>'yldclass'</li><li>'acos2010'</li><li>'aper2010'</li><li>'aper10'</li><li>'prod2010'</li><li>'rend2010'</li><li>'prec2010'</li><li>'valo2010'</li></ol>\n"
      ],
      "text/latex": [
       "\\begin{enumerate*}\n",
       "\\item 'Idcode'\n",
       "\\item 'NOM\\_ENT\\_1'\n",
       "\\item 'NOM\\_MUN\\_1'\n",
       "\\item 'Tmean\\_MayOct'\n",
       "\\item 'Precipmean\\_MayOct'\n",
       "\\item 'Precipsum\\_MayOct'\n",
       "\\item 'MedianAlt\\_med'\n",
       "\\item 'Slope\\_mod'\n",
       "\\item 'aplt2010'\n",
       "\\item 'yldclass'\n",
       "\\item 'acos2010'\n",
       "\\item 'aper2010'\n",
       "\\item 'aper10'\n",
       "\\item 'prod2010'\n",
       "\\item 'rend2010'\n",
       "\\item 'prec2010'\n",
       "\\item 'valo2010'\n",
       "\\end{enumerate*}\n"
      ],
      "text/markdown": [
       "1. 'Idcode'\n",
       "2. 'NOM_ENT_1'\n",
       "3. 'NOM_MUN_1'\n",
       "4. 'Tmean_MayOct'\n",
       "5. 'Precipmean_MayOct'\n",
       "6. 'Precipsum_MayOct'\n",
       "7. 'MedianAlt_med'\n",
       "8. 'Slope_mod'\n",
       "9. 'aplt2010'\n",
       "10. 'yldclass'\n",
       "11. 'acos2010'\n",
       "12. 'aper2010'\n",
       "13. 'aper10'\n",
       "14. 'prod2010'\n",
       "15. 'rend2010'\n",
       "16. 'prec2010'\n",
       "17. 'valo2010'\n",
       "\n",
       "\n"
      ],
      "text/plain": [
       " [1] \"Idcode\"            \"NOM_ENT_1\"         \"NOM_MUN_1\"        \n",
       " [4] \"Tmean_MayOct\"      \"Precipmean_MayOct\" \"Precipsum_MayOct\" \n",
       " [7] \"MedianAlt_med\"     \"Slope_mod\"         \"aplt2010\"         \n",
       "[10] \"yldclass\"          \"acos2010\"          \"aper2010\"         \n",
       "[13] \"aper10\"            \"prod2010\"          \"rend2010\"         \n",
       "[16] \"prec2010\"          \"valo2010\"         "
      ]
     },
     "metadata": {},
     "output_type": "display_data"
    }
   ],
   "source": [
    "colnames(df_procampo_no_NA_renamed)"
   ]
  },
  {
   "cell_type": "markdown",
   "id": "269e0379-bb88-4c1c-95ce-c2fbbd625d23",
   "metadata": {},
   "source": [
    "Dummy executions"
   ]
  },
  {
   "cell_type": "code",
   "execution_count": 36,
   "id": "f15a993a-3f6b-445c-8d56-1a12ace718ae",
   "metadata": {},
   "outputs": [
    {
     "data": {
      "text/html": [
       "<table class=\"dataframe\">\n",
       "<caption>A tibble: 47 × 17</caption>\n",
       "<thead>\n",
       "\t<tr><th scope=col>Idcode</th><th scope=col>NOM_ENT_1</th><th scope=col>NOM_MUN_1</th><th scope=col>Tmean_MayOct</th><th scope=col>Precipmean_MayOct</th><th scope=col>Precipsum_MayOct</th><th scope=col>MedianAlt_med</th><th scope=col>Slope_mod</th><th scope=col>aplt2010</th><th scope=col>yldclass</th><th scope=col>acos2010</th><th scope=col>aper2010</th><th scope=col>aper10</th><th scope=col>prod2010</th><th scope=col>rend2010</th><th scope=col>prec2010</th><th scope=col>valo2010</th></tr>\n",
       "\t<tr><th scope=col>&lt;chr&gt;</th><th scope=col>&lt;chr&gt;</th><th scope=col>&lt;chr&gt;</th><th scope=col>&lt;dbl&gt;</th><th scope=col>&lt;dbl&gt;</th><th scope=col>&lt;dbl&gt;</th><th scope=col>&lt;dbl&gt;</th><th scope=col>&lt;dbl&gt;</th><th scope=col>&lt;dbl&gt;</th><th scope=col>&lt;dbl&gt;</th><th scope=col>&lt;dbl&gt;</th><th scope=col>&lt;dbl&gt;</th><th scope=col>&lt;dbl&gt;</th><th scope=col>&lt;dbl&gt;</th><th scope=col>&lt;dbl&gt;</th><th scope=col>&lt;dbl&gt;</th><th scope=col>&lt;dbl&gt;</th></tr>\n",
       "</thead>\n",
       "<tbody>\n",
       "\t<tr><td>01001</td><td>Aguascalientes</td><td>Aguascalientes           </td><td>19.86635</td><td> 80.18016</td><td> 80.18016</td><td>1911.733</td><td> 3.03572369</td><td> 4383.00</td><td>1</td><td>    0.00</td><td>4383.00</td><td>1.00000000</td><td>   0.00</td><td>0.00</td><td>   0.00</td><td>    0.00</td></tr>\n",
       "\t<tr><td>01004</td><td>Aguascalientes</td><td>Cosío                    </td><td>18.95824</td><td> 63.26682</td><td> 63.26682</td><td>2026.669</td><td> 3.48087740</td><td> 2296.00</td><td>1</td><td>    0.00</td><td>2296.00</td><td>1.00000000</td><td>   0.00</td><td>0.00</td><td>   0.00</td><td>    0.00</td></tr>\n",
       "\t<tr><td>01005</td><td>Aguascalientes</td><td>Jesús María              </td><td>19.52609</td><td> 83.25196</td><td> 83.25196</td><td>1979.000</td><td> 5.34352350</td><td>  200.00</td><td>1</td><td>    0.00</td><td> 200.00</td><td>1.00000000</td><td>   0.00</td><td>0.00</td><td>   0.00</td><td>    0.00</td></tr>\n",
       "\t<tr><td>01010</td><td>Aguascalientes</td><td>El Llano                 </td><td>19.20043</td><td> 72.38775</td><td> 72.38775</td><td>2022.750</td><td> 1.79898870</td><td> 8363.00</td><td>1</td><td>    0.00</td><td>8363.00</td><td>1.00000000</td><td>   0.00</td><td>0.00</td><td>   0.00</td><td>    0.00</td></tr>\n",
       "\t<tr><td>01011</td><td>Aguascalientes</td><td>San Francisco de los Romo</td><td>19.44668</td><td> 71.37154</td><td> 71.37154</td><td>1963.966</td><td> 2.05319643</td><td>  310.00</td><td>1</td><td>    0.00</td><td> 310.00</td><td>1.00000000</td><td>   0.00</td><td>0.00</td><td>   0.00</td><td>    0.00</td></tr>\n",
       "\t<tr><td>10012</td><td>Durango       </td><td>Lerdo                    </td><td>24.50609</td><td> 40.82719</td><td> 40.82719</td><td>1353.105</td><td> 0.37351748</td><td>   12.00</td><td>1</td><td>    0.00</td><td>  12.00</td><td>1.00000000</td><td>   0.00</td><td>0.00</td><td>   0.00</td><td>    0.00</td></tr>\n",
       "\t<tr><td>10027</td><td>Durango       </td><td>San Juan de Guadalupe    </td><td>21.28591</td><td> 43.37108</td><td> 43.37108</td><td>1682.250</td><td> 1.21794152</td><td> 1780.00</td><td>1</td><td>    0.00</td><td>1780.00</td><td>1.00000000</td><td>   0.00</td><td>0.00</td><td>   0.00</td><td>    0.00</td></tr>\n",
       "\t<tr><td>01002</td><td>Aguascalientes</td><td>Asientos                 </td><td>18.98015</td><td> 66.37265</td><td> 66.37265</td><td>2042.000</td><td> 2.34327340</td><td>10547.00</td><td>1</td><td> 6327.00</td><td>4220.00</td><td>0.40011378</td><td>1486.00</td><td>0.24</td><td>2800.00</td><td> 4160.80</td></tr>\n",
       "\t<tr><td>01006</td><td>Aguascalientes</td><td>Pabellón de Arteaga      </td><td>19.57420</td><td> 70.38294</td><td> 70.38294</td><td>1960.491</td><td> 2.34781194</td><td>  270.00</td><td>1</td><td>  270.00</td><td>   0.00</td><td>0.00000000</td><td>  81.00</td><td>0.30</td><td>2800.00</td><td>  226.80</td></tr>\n",
       "\t<tr><td>01009</td><td>Aguascalientes</td><td>Tepezalá                 </td><td>19.09883</td><td> 64.22693</td><td> 64.22693</td><td>2014.143</td><td> 1.52041161</td><td> 4664.00</td><td>1</td><td>  979.00</td><td>3685.00</td><td>0.79009434</td><td> 318.99</td><td>0.33</td><td>2648.34</td><td>  844.79</td></tr>\n",
       "\t<tr><td>01003</td><td>Aguascalientes</td><td>Calvillo                 </td><td>20.17904</td><td> 92.76076</td><td> 92.76076</td><td>1868.250</td><td> 6.32503748</td><td> 1474.00</td><td>1</td><td>  305.00</td><td>1169.00</td><td>0.79308005</td><td> 104.15</td><td>0.34</td><td>3000.00</td><td>  312.45</td></tr>\n",
       "\t<tr><td>10014</td><td>Durango       </td><td>Mezquital                </td><td>22.07773</td><td> 98.43348</td><td> 98.43348</td><td>1640.722</td><td>11.34657192</td><td>17596.00</td><td>1</td><td>17596.00</td><td>   0.00</td><td>0.00000000</td><td>6158.60</td><td>0.35</td><td>4500.00</td><td>27713.70</td></tr>\n",
       "\t<tr><td>10024</td><td>Durango       </td><td>Rodeo                    </td><td>23.05892</td><td> 59.29369</td><td> 59.29369</td><td>1555.235</td><td> 8.04256248</td><td> 2633.00</td><td>1</td><td> 2293.00</td><td> 340.00</td><td>0.12913027</td><td> 830.00</td><td>0.36</td><td>3000.00</td><td> 2490.00</td></tr>\n",
       "\t<tr><td>01007</td><td>Aguascalientes</td><td>Rincón de Romos          </td><td>19.00511</td><td> 70.90308</td><td> 70.90308</td><td>2036.000</td><td> 4.89620876</td><td> 3510.00</td><td>1</td><td> 1946.00</td><td>1564.00</td><td>0.44558405</td><td> 789.04</td><td>0.40</td><td>3004.94</td><td> 2371.02</td></tr>\n",
       "\t<tr><td>10031</td><td>Durango       </td><td>Santa Clara              </td><td>21.00986</td><td> 60.59866</td><td> 60.59866</td><td>1861.000</td><td> 1.04150295</td><td>  936.00</td><td>1</td><td>  136.00</td><td> 800.00</td><td>0.85470086</td><td>  54.40</td><td>0.40</td><td>3700.00</td><td>  201.28</td></tr>\n",
       "\t<tr><td>10009</td><td>Durango       </td><td>Guanaceví                </td><td>15.51554</td><td> 94.15408</td><td> 94.15408</td><td>2472.000</td><td> 8.09352875</td><td> 2895.00</td><td>1</td><td> 2564.00</td><td> 331.00</td><td>0.11433506</td><td>1153.80</td><td>0.45</td><td>3500.00</td><td> 4038.30</td></tr>\n",
       "\t<tr><td>10006</td><td>Durango       </td><td>General Simón Bolívar    </td><td>22.36369</td><td> 50.63553</td><td> 50.63553</td><td>1586.984</td><td> 4.16942406</td><td> 3061.00</td><td>1</td><td> 1588.00</td><td>1473.00</td><td>0.48121529</td><td> 782.00</td><td>0.49</td><td>4000.00</td><td> 3128.00</td></tr>\n",
       "\t<tr><td>10001</td><td>Durango       </td><td>Canatlán                 </td><td>18.96490</td><td> 80.62665</td><td> 80.62665</td><td>2025.927</td><td> 0.27177569</td><td>11605.00</td><td>1</td><td>11332.00</td><td> 273.00</td><td>0.02352434</td><td>5666.00</td><td>0.50</td><td>2800.00</td><td>15864.80</td></tr>\n",
       "\t<tr><td>10005</td><td>Durango       </td><td>Durango                  </td><td>17.84532</td><td> 91.01565</td><td> 91.01565</td><td>1970.000</td><td> 0.04051423</td><td>17682.87</td><td>1</td><td>17482.87</td><td> 200.00</td><td>0.01131038</td><td>8741.44</td><td>0.50</td><td>3500.00</td><td>30595.04</td></tr>\n",
       "\t<tr><td>10018</td><td>Durango       </td><td>El Oro                   </td><td>20.70729</td><td> 69.93032</td><td> 69.93032</td><td>1758.820</td><td> 1.15999258</td><td> 6301.00</td><td>1</td><td> 5545.00</td><td> 756.00</td><td>0.11998096</td><td>2773.00</td><td>0.50</td><td>3500.00</td><td> 9705.50</td></tr>\n",
       "\t<tr><td>10025</td><td>Durango       </td><td>San Bernardo             </td><td>20.35318</td><td> 76.91361</td><td> 76.91361</td><td>1822.527</td><td> 7.41341019</td><td> 6200.00</td><td>1</td><td> 5554.00</td><td> 646.00</td><td>0.10419355</td><td>2777.00</td><td>0.50</td><td>3500.00</td><td> 9719.50</td></tr>\n",
       "\t<tr><td>10039</td><td>Durango       </td><td>Nuevo Ideal              </td><td>19.30691</td><td> 77.93082</td><td> 77.93082</td><td>2065.359</td><td> 0.11811811</td><td> 8970.00</td><td>1</td><td> 8717.00</td><td> 253.00</td><td>0.02820513</td><td>4358.50</td><td>0.50</td><td>2800.00</td><td>12203.80</td></tr>\n",
       "\t<tr><td>01008</td><td>Aguascalientes</td><td>San José de Gracia       </td><td>18.44194</td><td> 83.92602</td><td> 83.92602</td><td>2140.000</td><td> 3.49071717</td><td> 3344.00</td><td>1</td><td> 3006.00</td><td> 338.00</td><td>0.10107655</td><td>1797.33</td><td>0.60</td><td>2650.00</td><td> 4762.92</td></tr>\n",
       "\t<tr><td>10020</td><td>Durango       </td><td>Pánuco de Coronado       </td><td>19.45196</td><td> 75.84897</td><td> 75.84897</td><td>2014.000</td><td> 5.48100233</td><td> 1950.00</td><td>1</td><td> 1394.40</td><td> 555.60</td><td>0.28492308</td><td> 878.47</td><td>0.63</td><td>3000.00</td><td> 2635.41</td></tr>\n",
       "\t<tr><td>10004</td><td>Durango       </td><td>Cuencamé                 </td><td>21.86394</td><td> 58.35045</td><td> 58.35045</td><td>1663.000</td><td> 0.75192982</td><td> 3966.00</td><td>1</td><td> 1970.30</td><td>1995.70</td><td>0.50320222</td><td>1260.81</td><td>0.64</td><td>2417.26</td><td> 3047.70</td></tr>\n",
       "\t<tr><td>10032</td><td>Durango       </td><td>Santiago Papasquiaro     </td><td>19.20543</td><td> 98.86758</td><td> 98.86758</td><td>1898.000</td><td> 0.91036755</td><td>13450.00</td><td>1</td><td>11870.00</td><td>1580.00</td><td>0.11747212</td><td>8237.78</td><td>0.69</td><td>2700.00</td><td>22242.01</td></tr>\n",
       "\t<tr><td>10003</td><td>Durango       </td><td>Coneto de Comonfort      </td><td>19.57515</td><td> 72.74094</td><td> 72.74094</td><td>1983.250</td><td> 7.06227827</td><td>  689.00</td><td>1</td><td>  689.00</td><td>   0.00</td><td>0.00000000</td><td> 482.30</td><td>0.70</td><td>3200.00</td><td> 1543.36</td></tr>\n",
       "\t<tr><td>10010</td><td>Durango       </td><td>Hidalgo                  </td><td>20.02150</td><td> 57.92485</td><td> 57.92485</td><td>1884.750</td><td> 2.39972663</td><td> 3336.00</td><td>1</td><td> 3150.00</td><td> 186.00</td><td>0.05575540</td><td>2205.00</td><td>0.70</td><td>3000.00</td><td> 6615.00</td></tr>\n",
       "\t<tr><td>10011</td><td>Durango       </td><td>Indé                     </td><td>21.32701</td><td> 63.03349</td><td> 63.03349</td><td>1684.635</td><td> 0.73034120</td><td> 7426.00</td><td>1</td><td> 7206.00</td><td> 220.00</td><td>0.02962564</td><td>5044.20</td><td>0.70</td><td>3000.00</td><td>15132.60</td></tr>\n",
       "\t<tr><td>10016</td><td>Durango       </td><td>Nombre de Dios           </td><td>19.99189</td><td> 71.87948</td><td> 71.87948</td><td>1882.500</td><td> 4.12264061</td><td>  500.00</td><td>1</td><td>  500.00</td><td>   0.00</td><td>0.00000000</td><td> 350.00</td><td>0.70</td><td>2500.00</td><td>  875.00</td></tr>\n",
       "\t<tr><td>10017</td><td>Durango       </td><td>Ocampo                   </td><td>19.53785</td><td> 70.48974</td><td> 70.48974</td><td>1814.250</td><td> 2.11684990</td><td> 5130.00</td><td>1</td><td> 5060.00</td><td>  70.00</td><td>0.01364522</td><td>3542.00</td><td>0.70</td><td>3000.00</td><td>10626.00</td></tr>\n",
       "\t<tr><td>10033</td><td>Durango       </td><td>Súchil                   </td><td>19.07764</td><td> 75.97760</td><td> 75.97760</td><td>2036.500</td><td> 4.55153799</td><td>  850.00</td><td>1</td><td>  850.00</td><td>   0.00</td><td>0.00000000</td><td> 595.00</td><td>0.70</td><td>2500.00</td><td> 1487.50</td></tr>\n",
       "\t<tr><td>10038</td><td>Durango       </td><td>Vicente Guerrero         </td><td>19.49127</td><td> 71.80398</td><td> 71.80398</td><td>1950.500</td><td> 3.25882077</td><td>  432.00</td><td>1</td><td>  432.00</td><td>   0.00</td><td>0.00000000</td><td> 302.40</td><td>0.70</td><td>2500.00</td><td>  756.00</td></tr>\n",
       "\t<tr><td>10008</td><td>Durango       </td><td>Guadalupe Victoria       </td><td>19.73683</td><td> 72.96771</td><td> 72.96771</td><td>1992.884</td><td> 0.42587367</td><td> 3500.00</td><td>1</td><td> 2878.88</td><td> 621.12</td><td>0.17746286</td><td>2159.16</td><td>0.75</td><td>3000.00</td><td> 6477.48</td></tr>\n",
       "\t<tr><td>10021</td><td>Durango       </td><td>Peñón Blanco             </td><td>21.38312</td><td> 64.41799</td><td> 64.41799</td><td>1746.000</td><td> 0.90585035</td><td>  578.00</td><td>1</td><td>  238.00</td><td> 340.00</td><td>0.58823529</td><td> 190.40</td><td>0.80</td><td>3700.00</td><td>  704.48</td></tr>\n",
       "\t<tr><td>10023</td><td>Durango       </td><td>Pueblo Nuevo             </td><td>15.62654</td><td>135.20277</td><td>135.20277</td><td>2237.500</td><td> 4.02083540</td><td> 5678.00</td><td>1</td><td> 5678.00</td><td>   0.00</td><td>0.00000000</td><td>4542.40</td><td>0.80</td><td>2600.00</td><td>11810.24</td></tr>\n",
       "\t<tr><td>10026</td><td>Durango       </td><td>San Dimas                </td><td>14.61826</td><td>142.95444</td><td>142.95444</td><td>2494.000</td><td> 6.45982838</td><td> 4900.00</td><td>1</td><td> 4900.00</td><td>   0.00</td><td>0.00000000</td><td>3920.00</td><td>0.80</td><td>2600.00</td><td>10192.00</td></tr>\n",
       "\t<tr><td>10028</td><td>Durango       </td><td>San Juan del Río         </td><td>21.02407</td><td> 69.74961</td><td> 69.74961</td><td>1859.000</td><td> 6.26628780</td><td> 4436.00</td><td>1</td><td> 4047.00</td><td> 389.00</td><td>0.08769161</td><td>3237.60</td><td>0.80</td><td>3200.00</td><td>10360.32</td></tr>\n",
       "\t<tr><td>10034</td><td>Durango       </td><td>Tamazula                 </td><td>20.70031</td><td>138.09424</td><td>138.09424</td><td> 986.500</td><td>10.43844986</td><td> 8633.00</td><td>1</td><td> 8633.00</td><td>   0.00</td><td>0.00000000</td><td>6906.40</td><td>0.80</td><td>2600.00</td><td>17956.64</td></tr>\n",
       "\t<tr><td>10035</td><td>Durango       </td><td>Tepehuanes               </td><td>15.93217</td><td>109.64829</td><td>109.64829</td><td>2398.000</td><td>16.68789482</td><td> 4370.00</td><td>1</td><td> 4370.00</td><td>   0.00</td><td>0.00000000</td><td>3596.51</td><td>0.82</td><td>3000.00</td><td>10789.53</td></tr>\n",
       "\t<tr><td>10022</td><td>Durango       </td><td>Poanas                   </td><td>19.65301</td><td> 73.05074</td><td> 73.05074</td><td>1962.107</td><td> 3.69753575</td><td> 1415.00</td><td>1</td><td> 1415.00</td><td>   0.00</td><td>0.00000000</td><td>1202.75</td><td>0.85</td><td>2800.00</td><td> 3367.70</td></tr>\n",
       "\t<tr><td>10002</td><td>Durango       </td><td>Canelas                  </td><td>16.70599</td><td>160.92121</td><td>160.92121</td><td>2247.000</td><td>21.33548164</td><td> 1670.00</td><td>1</td><td> 1670.00</td><td>   0.00</td><td>0.00000000</td><td>1439.54</td><td>0.86</td><td>3500.00</td><td> 5038.39</td></tr>\n",
       "\t<tr><td>10029</td><td>Durango       </td><td>San Luis del Cordero     </td><td>23.28109</td><td> 49.91981</td><td> 49.91981</td><td>1507.344</td><td> 5.03141499</td><td> 1854.00</td><td>1</td><td>  203.00</td><td>1651.00</td><td>0.89050701</td><td> 181.00</td><td>0.89</td><td>3000.00</td><td>  543.00</td></tr>\n",
       "\t<tr><td>10037</td><td>Durango       </td><td>Topia                    </td><td>17.74078</td><td>150.53673</td><td>150.53673</td><td>2160.234</td><td> 4.26840115</td><td> 2082.00</td><td>1</td><td> 2082.00</td><td>   0.00</td><td>0.00000000</td><td>1915.44</td><td>0.92</td><td>3500.00</td><td> 6704.04</td></tr>\n",
       "\t<tr><td>10019</td><td>Durango       </td><td>Otáez                    </td><td>17.54149</td><td>145.52714</td><td>145.52714</td><td>1772.000</td><td> 1.08999503</td><td> 1650.00</td><td>2</td><td> 1650.00</td><td>   0.00</td><td>0.00000000</td><td>1879.35</td><td>1.14</td><td>2800.00</td><td> 5262.18</td></tr>\n",
       "\t<tr><td>10030</td><td>Durango       </td><td>San Pedro del Gallo      </td><td>21.61524</td><td> 52.30861</td><td> 52.30861</td><td>1825.420</td><td> 0.99929541</td><td> 2033.00</td><td>2</td><td>  278.00</td><td>1755.00</td><td>0.86325627</td><td> 368.00</td><td>1.32</td><td>3500.00</td><td> 1288.00</td></tr>\n",
       "\t<tr><td>10013</td><td>Durango       </td><td>Mapimí                   </td><td>23.82030</td><td> 44.23452</td><td> 44.23452</td><td>1431.601</td><td> 0.14323916</td><td>  381.00</td><td>2</td><td>  381.00</td><td>   0.00</td><td>0.00000000</td><td> 527.00</td><td>1.38</td><td>4000.00</td><td> 2108.00</td></tr>\n",
       "</tbody>\n",
       "</table>\n"
      ],
      "text/latex": [
       "A tibble: 47 × 17\n",
       "\\begin{tabular}{lllllllllllllllll}\n",
       " Idcode & NOM\\_ENT\\_1 & NOM\\_MUN\\_1 & Tmean\\_MayOct & Precipmean\\_MayOct & Precipsum\\_MayOct & MedianAlt\\_med & Slope\\_mod & aplt2010 & yldclass & acos2010 & aper2010 & aper10 & prod2010 & rend2010 & prec2010 & valo2010\\\\\n",
       " <chr> & <chr> & <chr> & <dbl> & <dbl> & <dbl> & <dbl> & <dbl> & <dbl> & <dbl> & <dbl> & <dbl> & <dbl> & <dbl> & <dbl> & <dbl> & <dbl>\\\\\n",
       "\\hline\n",
       "\t 01001 & Aguascalientes & Aguascalientes            & 19.86635 &  80.18016 &  80.18016 & 1911.733 &  3.03572369 &  4383.00 & 1 &     0.00 & 4383.00 & 1.00000000 &    0.00 & 0.00 &    0.00 &     0.00\\\\\n",
       "\t 01004 & Aguascalientes & Cosío                     & 18.95824 &  63.26682 &  63.26682 & 2026.669 &  3.48087740 &  2296.00 & 1 &     0.00 & 2296.00 & 1.00000000 &    0.00 & 0.00 &    0.00 &     0.00\\\\\n",
       "\t 01005 & Aguascalientes & Jesús María               & 19.52609 &  83.25196 &  83.25196 & 1979.000 &  5.34352350 &   200.00 & 1 &     0.00 &  200.00 & 1.00000000 &    0.00 & 0.00 &    0.00 &     0.00\\\\\n",
       "\t 01010 & Aguascalientes & El Llano                  & 19.20043 &  72.38775 &  72.38775 & 2022.750 &  1.79898870 &  8363.00 & 1 &     0.00 & 8363.00 & 1.00000000 &    0.00 & 0.00 &    0.00 &     0.00\\\\\n",
       "\t 01011 & Aguascalientes & San Francisco de los Romo & 19.44668 &  71.37154 &  71.37154 & 1963.966 &  2.05319643 &   310.00 & 1 &     0.00 &  310.00 & 1.00000000 &    0.00 & 0.00 &    0.00 &     0.00\\\\\n",
       "\t 10012 & Durango        & Lerdo                     & 24.50609 &  40.82719 &  40.82719 & 1353.105 &  0.37351748 &    12.00 & 1 &     0.00 &   12.00 & 1.00000000 &    0.00 & 0.00 &    0.00 &     0.00\\\\\n",
       "\t 10027 & Durango        & San Juan de Guadalupe     & 21.28591 &  43.37108 &  43.37108 & 1682.250 &  1.21794152 &  1780.00 & 1 &     0.00 & 1780.00 & 1.00000000 &    0.00 & 0.00 &    0.00 &     0.00\\\\\n",
       "\t 01002 & Aguascalientes & Asientos                  & 18.98015 &  66.37265 &  66.37265 & 2042.000 &  2.34327340 & 10547.00 & 1 &  6327.00 & 4220.00 & 0.40011378 & 1486.00 & 0.24 & 2800.00 &  4160.80\\\\\n",
       "\t 01006 & Aguascalientes & Pabellón de Arteaga       & 19.57420 &  70.38294 &  70.38294 & 1960.491 &  2.34781194 &   270.00 & 1 &   270.00 &    0.00 & 0.00000000 &   81.00 & 0.30 & 2800.00 &   226.80\\\\\n",
       "\t 01009 & Aguascalientes & Tepezalá                  & 19.09883 &  64.22693 &  64.22693 & 2014.143 &  1.52041161 &  4664.00 & 1 &   979.00 & 3685.00 & 0.79009434 &  318.99 & 0.33 & 2648.34 &   844.79\\\\\n",
       "\t 01003 & Aguascalientes & Calvillo                  & 20.17904 &  92.76076 &  92.76076 & 1868.250 &  6.32503748 &  1474.00 & 1 &   305.00 & 1169.00 & 0.79308005 &  104.15 & 0.34 & 3000.00 &   312.45\\\\\n",
       "\t 10014 & Durango        & Mezquital                 & 22.07773 &  98.43348 &  98.43348 & 1640.722 & 11.34657192 & 17596.00 & 1 & 17596.00 &    0.00 & 0.00000000 & 6158.60 & 0.35 & 4500.00 & 27713.70\\\\\n",
       "\t 10024 & Durango        & Rodeo                     & 23.05892 &  59.29369 &  59.29369 & 1555.235 &  8.04256248 &  2633.00 & 1 &  2293.00 &  340.00 & 0.12913027 &  830.00 & 0.36 & 3000.00 &  2490.00\\\\\n",
       "\t 01007 & Aguascalientes & Rincón de Romos           & 19.00511 &  70.90308 &  70.90308 & 2036.000 &  4.89620876 &  3510.00 & 1 &  1946.00 & 1564.00 & 0.44558405 &  789.04 & 0.40 & 3004.94 &  2371.02\\\\\n",
       "\t 10031 & Durango        & Santa Clara               & 21.00986 &  60.59866 &  60.59866 & 1861.000 &  1.04150295 &   936.00 & 1 &   136.00 &  800.00 & 0.85470086 &   54.40 & 0.40 & 3700.00 &   201.28\\\\\n",
       "\t 10009 & Durango        & Guanaceví                 & 15.51554 &  94.15408 &  94.15408 & 2472.000 &  8.09352875 &  2895.00 & 1 &  2564.00 &  331.00 & 0.11433506 & 1153.80 & 0.45 & 3500.00 &  4038.30\\\\\n",
       "\t 10006 & Durango        & General Simón Bolívar     & 22.36369 &  50.63553 &  50.63553 & 1586.984 &  4.16942406 &  3061.00 & 1 &  1588.00 & 1473.00 & 0.48121529 &  782.00 & 0.49 & 4000.00 &  3128.00\\\\\n",
       "\t 10001 & Durango        & Canatlán                  & 18.96490 &  80.62665 &  80.62665 & 2025.927 &  0.27177569 & 11605.00 & 1 & 11332.00 &  273.00 & 0.02352434 & 5666.00 & 0.50 & 2800.00 & 15864.80\\\\\n",
       "\t 10005 & Durango        & Durango                   & 17.84532 &  91.01565 &  91.01565 & 1970.000 &  0.04051423 & 17682.87 & 1 & 17482.87 &  200.00 & 0.01131038 & 8741.44 & 0.50 & 3500.00 & 30595.04\\\\\n",
       "\t 10018 & Durango        & El Oro                    & 20.70729 &  69.93032 &  69.93032 & 1758.820 &  1.15999258 &  6301.00 & 1 &  5545.00 &  756.00 & 0.11998096 & 2773.00 & 0.50 & 3500.00 &  9705.50\\\\\n",
       "\t 10025 & Durango        & San Bernardo              & 20.35318 &  76.91361 &  76.91361 & 1822.527 &  7.41341019 &  6200.00 & 1 &  5554.00 &  646.00 & 0.10419355 & 2777.00 & 0.50 & 3500.00 &  9719.50\\\\\n",
       "\t 10039 & Durango        & Nuevo Ideal               & 19.30691 &  77.93082 &  77.93082 & 2065.359 &  0.11811811 &  8970.00 & 1 &  8717.00 &  253.00 & 0.02820513 & 4358.50 & 0.50 & 2800.00 & 12203.80\\\\\n",
       "\t 01008 & Aguascalientes & San José de Gracia        & 18.44194 &  83.92602 &  83.92602 & 2140.000 &  3.49071717 &  3344.00 & 1 &  3006.00 &  338.00 & 0.10107655 & 1797.33 & 0.60 & 2650.00 &  4762.92\\\\\n",
       "\t 10020 & Durango        & Pánuco de Coronado        & 19.45196 &  75.84897 &  75.84897 & 2014.000 &  5.48100233 &  1950.00 & 1 &  1394.40 &  555.60 & 0.28492308 &  878.47 & 0.63 & 3000.00 &  2635.41\\\\\n",
       "\t 10004 & Durango        & Cuencamé                  & 21.86394 &  58.35045 &  58.35045 & 1663.000 &  0.75192982 &  3966.00 & 1 &  1970.30 & 1995.70 & 0.50320222 & 1260.81 & 0.64 & 2417.26 &  3047.70\\\\\n",
       "\t 10032 & Durango        & Santiago Papasquiaro      & 19.20543 &  98.86758 &  98.86758 & 1898.000 &  0.91036755 & 13450.00 & 1 & 11870.00 & 1580.00 & 0.11747212 & 8237.78 & 0.69 & 2700.00 & 22242.01\\\\\n",
       "\t 10003 & Durango        & Coneto de Comonfort       & 19.57515 &  72.74094 &  72.74094 & 1983.250 &  7.06227827 &   689.00 & 1 &   689.00 &    0.00 & 0.00000000 &  482.30 & 0.70 & 3200.00 &  1543.36\\\\\n",
       "\t 10010 & Durango        & Hidalgo                   & 20.02150 &  57.92485 &  57.92485 & 1884.750 &  2.39972663 &  3336.00 & 1 &  3150.00 &  186.00 & 0.05575540 & 2205.00 & 0.70 & 3000.00 &  6615.00\\\\\n",
       "\t 10011 & Durango        & Indé                      & 21.32701 &  63.03349 &  63.03349 & 1684.635 &  0.73034120 &  7426.00 & 1 &  7206.00 &  220.00 & 0.02962564 & 5044.20 & 0.70 & 3000.00 & 15132.60\\\\\n",
       "\t 10016 & Durango        & Nombre de Dios            & 19.99189 &  71.87948 &  71.87948 & 1882.500 &  4.12264061 &   500.00 & 1 &   500.00 &    0.00 & 0.00000000 &  350.00 & 0.70 & 2500.00 &   875.00\\\\\n",
       "\t 10017 & Durango        & Ocampo                    & 19.53785 &  70.48974 &  70.48974 & 1814.250 &  2.11684990 &  5130.00 & 1 &  5060.00 &   70.00 & 0.01364522 & 3542.00 & 0.70 & 3000.00 & 10626.00\\\\\n",
       "\t 10033 & Durango        & Súchil                    & 19.07764 &  75.97760 &  75.97760 & 2036.500 &  4.55153799 &   850.00 & 1 &   850.00 &    0.00 & 0.00000000 &  595.00 & 0.70 & 2500.00 &  1487.50\\\\\n",
       "\t 10038 & Durango        & Vicente Guerrero          & 19.49127 &  71.80398 &  71.80398 & 1950.500 &  3.25882077 &   432.00 & 1 &   432.00 &    0.00 & 0.00000000 &  302.40 & 0.70 & 2500.00 &   756.00\\\\\n",
       "\t 10008 & Durango        & Guadalupe Victoria        & 19.73683 &  72.96771 &  72.96771 & 1992.884 &  0.42587367 &  3500.00 & 1 &  2878.88 &  621.12 & 0.17746286 & 2159.16 & 0.75 & 3000.00 &  6477.48\\\\\n",
       "\t 10021 & Durango        & Peñón Blanco              & 21.38312 &  64.41799 &  64.41799 & 1746.000 &  0.90585035 &   578.00 & 1 &   238.00 &  340.00 & 0.58823529 &  190.40 & 0.80 & 3700.00 &   704.48\\\\\n",
       "\t 10023 & Durango        & Pueblo Nuevo              & 15.62654 & 135.20277 & 135.20277 & 2237.500 &  4.02083540 &  5678.00 & 1 &  5678.00 &    0.00 & 0.00000000 & 4542.40 & 0.80 & 2600.00 & 11810.24\\\\\n",
       "\t 10026 & Durango        & San Dimas                 & 14.61826 & 142.95444 & 142.95444 & 2494.000 &  6.45982838 &  4900.00 & 1 &  4900.00 &    0.00 & 0.00000000 & 3920.00 & 0.80 & 2600.00 & 10192.00\\\\\n",
       "\t 10028 & Durango        & San Juan del Río          & 21.02407 &  69.74961 &  69.74961 & 1859.000 &  6.26628780 &  4436.00 & 1 &  4047.00 &  389.00 & 0.08769161 & 3237.60 & 0.80 & 3200.00 & 10360.32\\\\\n",
       "\t 10034 & Durango        & Tamazula                  & 20.70031 & 138.09424 & 138.09424 &  986.500 & 10.43844986 &  8633.00 & 1 &  8633.00 &    0.00 & 0.00000000 & 6906.40 & 0.80 & 2600.00 & 17956.64\\\\\n",
       "\t 10035 & Durango        & Tepehuanes                & 15.93217 & 109.64829 & 109.64829 & 2398.000 & 16.68789482 &  4370.00 & 1 &  4370.00 &    0.00 & 0.00000000 & 3596.51 & 0.82 & 3000.00 & 10789.53\\\\\n",
       "\t 10022 & Durango        & Poanas                    & 19.65301 &  73.05074 &  73.05074 & 1962.107 &  3.69753575 &  1415.00 & 1 &  1415.00 &    0.00 & 0.00000000 & 1202.75 & 0.85 & 2800.00 &  3367.70\\\\\n",
       "\t 10002 & Durango        & Canelas                   & 16.70599 & 160.92121 & 160.92121 & 2247.000 & 21.33548164 &  1670.00 & 1 &  1670.00 &    0.00 & 0.00000000 & 1439.54 & 0.86 & 3500.00 &  5038.39\\\\\n",
       "\t 10029 & Durango        & San Luis del Cordero      & 23.28109 &  49.91981 &  49.91981 & 1507.344 &  5.03141499 &  1854.00 & 1 &   203.00 & 1651.00 & 0.89050701 &  181.00 & 0.89 & 3000.00 &   543.00\\\\\n",
       "\t 10037 & Durango        & Topia                     & 17.74078 & 150.53673 & 150.53673 & 2160.234 &  4.26840115 &  2082.00 & 1 &  2082.00 &    0.00 & 0.00000000 & 1915.44 & 0.92 & 3500.00 &  6704.04\\\\\n",
       "\t 10019 & Durango        & Otáez                     & 17.54149 & 145.52714 & 145.52714 & 1772.000 &  1.08999503 &  1650.00 & 2 &  1650.00 &    0.00 & 0.00000000 & 1879.35 & 1.14 & 2800.00 &  5262.18\\\\\n",
       "\t 10030 & Durango        & San Pedro del Gallo       & 21.61524 &  52.30861 &  52.30861 & 1825.420 &  0.99929541 &  2033.00 & 2 &   278.00 & 1755.00 & 0.86325627 &  368.00 & 1.32 & 3500.00 &  1288.00\\\\\n",
       "\t 10013 & Durango        & Mapimí                    & 23.82030 &  44.23452 &  44.23452 & 1431.601 &  0.14323916 &   381.00 & 2 &   381.00 &    0.00 & 0.00000000 &  527.00 & 1.38 & 4000.00 &  2108.00\\\\\n",
       "\\end{tabular}\n"
      ],
      "text/markdown": [
       "\n",
       "A tibble: 47 × 17\n",
       "\n",
       "| Idcode &lt;chr&gt; | NOM_ENT_1 &lt;chr&gt; | NOM_MUN_1 &lt;chr&gt; | Tmean_MayOct &lt;dbl&gt; | Precipmean_MayOct &lt;dbl&gt; | Precipsum_MayOct &lt;dbl&gt; | MedianAlt_med &lt;dbl&gt; | Slope_mod &lt;dbl&gt; | aplt2010 &lt;dbl&gt; | yldclass &lt;dbl&gt; | acos2010 &lt;dbl&gt; | aper2010 &lt;dbl&gt; | aper10 &lt;dbl&gt; | prod2010 &lt;dbl&gt; | rend2010 &lt;dbl&gt; | prec2010 &lt;dbl&gt; | valo2010 &lt;dbl&gt; |\n",
       "|---|---|---|---|---|---|---|---|---|---|---|---|---|---|---|---|---|\n",
       "| 01001 | Aguascalientes | Aguascalientes            | 19.86635 |  80.18016 |  80.18016 | 1911.733 |  3.03572369 |  4383.00 | 1 |     0.00 | 4383.00 | 1.00000000 |    0.00 | 0.00 |    0.00 |     0.00 |\n",
       "| 01004 | Aguascalientes | Cosío                     | 18.95824 |  63.26682 |  63.26682 | 2026.669 |  3.48087740 |  2296.00 | 1 |     0.00 | 2296.00 | 1.00000000 |    0.00 | 0.00 |    0.00 |     0.00 |\n",
       "| 01005 | Aguascalientes | Jesús María               | 19.52609 |  83.25196 |  83.25196 | 1979.000 |  5.34352350 |   200.00 | 1 |     0.00 |  200.00 | 1.00000000 |    0.00 | 0.00 |    0.00 |     0.00 |\n",
       "| 01010 | Aguascalientes | El Llano                  | 19.20043 |  72.38775 |  72.38775 | 2022.750 |  1.79898870 |  8363.00 | 1 |     0.00 | 8363.00 | 1.00000000 |    0.00 | 0.00 |    0.00 |     0.00 |\n",
       "| 01011 | Aguascalientes | San Francisco de los Romo | 19.44668 |  71.37154 |  71.37154 | 1963.966 |  2.05319643 |   310.00 | 1 |     0.00 |  310.00 | 1.00000000 |    0.00 | 0.00 |    0.00 |     0.00 |\n",
       "| 10012 | Durango        | Lerdo                     | 24.50609 |  40.82719 |  40.82719 | 1353.105 |  0.37351748 |    12.00 | 1 |     0.00 |   12.00 | 1.00000000 |    0.00 | 0.00 |    0.00 |     0.00 |\n",
       "| 10027 | Durango        | San Juan de Guadalupe     | 21.28591 |  43.37108 |  43.37108 | 1682.250 |  1.21794152 |  1780.00 | 1 |     0.00 | 1780.00 | 1.00000000 |    0.00 | 0.00 |    0.00 |     0.00 |\n",
       "| 01002 | Aguascalientes | Asientos                  | 18.98015 |  66.37265 |  66.37265 | 2042.000 |  2.34327340 | 10547.00 | 1 |  6327.00 | 4220.00 | 0.40011378 | 1486.00 | 0.24 | 2800.00 |  4160.80 |\n",
       "| 01006 | Aguascalientes | Pabellón de Arteaga       | 19.57420 |  70.38294 |  70.38294 | 1960.491 |  2.34781194 |   270.00 | 1 |   270.00 |    0.00 | 0.00000000 |   81.00 | 0.30 | 2800.00 |   226.80 |\n",
       "| 01009 | Aguascalientes | Tepezalá                  | 19.09883 |  64.22693 |  64.22693 | 2014.143 |  1.52041161 |  4664.00 | 1 |   979.00 | 3685.00 | 0.79009434 |  318.99 | 0.33 | 2648.34 |   844.79 |\n",
       "| 01003 | Aguascalientes | Calvillo                  | 20.17904 |  92.76076 |  92.76076 | 1868.250 |  6.32503748 |  1474.00 | 1 |   305.00 | 1169.00 | 0.79308005 |  104.15 | 0.34 | 3000.00 |   312.45 |\n",
       "| 10014 | Durango        | Mezquital                 | 22.07773 |  98.43348 |  98.43348 | 1640.722 | 11.34657192 | 17596.00 | 1 | 17596.00 |    0.00 | 0.00000000 | 6158.60 | 0.35 | 4500.00 | 27713.70 |\n",
       "| 10024 | Durango        | Rodeo                     | 23.05892 |  59.29369 |  59.29369 | 1555.235 |  8.04256248 |  2633.00 | 1 |  2293.00 |  340.00 | 0.12913027 |  830.00 | 0.36 | 3000.00 |  2490.00 |\n",
       "| 01007 | Aguascalientes | Rincón de Romos           | 19.00511 |  70.90308 |  70.90308 | 2036.000 |  4.89620876 |  3510.00 | 1 |  1946.00 | 1564.00 | 0.44558405 |  789.04 | 0.40 | 3004.94 |  2371.02 |\n",
       "| 10031 | Durango        | Santa Clara               | 21.00986 |  60.59866 |  60.59866 | 1861.000 |  1.04150295 |   936.00 | 1 |   136.00 |  800.00 | 0.85470086 |   54.40 | 0.40 | 3700.00 |   201.28 |\n",
       "| 10009 | Durango        | Guanaceví                 | 15.51554 |  94.15408 |  94.15408 | 2472.000 |  8.09352875 |  2895.00 | 1 |  2564.00 |  331.00 | 0.11433506 | 1153.80 | 0.45 | 3500.00 |  4038.30 |\n",
       "| 10006 | Durango        | General Simón Bolívar     | 22.36369 |  50.63553 |  50.63553 | 1586.984 |  4.16942406 |  3061.00 | 1 |  1588.00 | 1473.00 | 0.48121529 |  782.00 | 0.49 | 4000.00 |  3128.00 |\n",
       "| 10001 | Durango        | Canatlán                  | 18.96490 |  80.62665 |  80.62665 | 2025.927 |  0.27177569 | 11605.00 | 1 | 11332.00 |  273.00 | 0.02352434 | 5666.00 | 0.50 | 2800.00 | 15864.80 |\n",
       "| 10005 | Durango        | Durango                   | 17.84532 |  91.01565 |  91.01565 | 1970.000 |  0.04051423 | 17682.87 | 1 | 17482.87 |  200.00 | 0.01131038 | 8741.44 | 0.50 | 3500.00 | 30595.04 |\n",
       "| 10018 | Durango        | El Oro                    | 20.70729 |  69.93032 |  69.93032 | 1758.820 |  1.15999258 |  6301.00 | 1 |  5545.00 |  756.00 | 0.11998096 | 2773.00 | 0.50 | 3500.00 |  9705.50 |\n",
       "| 10025 | Durango        | San Bernardo              | 20.35318 |  76.91361 |  76.91361 | 1822.527 |  7.41341019 |  6200.00 | 1 |  5554.00 |  646.00 | 0.10419355 | 2777.00 | 0.50 | 3500.00 |  9719.50 |\n",
       "| 10039 | Durango        | Nuevo Ideal               | 19.30691 |  77.93082 |  77.93082 | 2065.359 |  0.11811811 |  8970.00 | 1 |  8717.00 |  253.00 | 0.02820513 | 4358.50 | 0.50 | 2800.00 | 12203.80 |\n",
       "| 01008 | Aguascalientes | San José de Gracia        | 18.44194 |  83.92602 |  83.92602 | 2140.000 |  3.49071717 |  3344.00 | 1 |  3006.00 |  338.00 | 0.10107655 | 1797.33 | 0.60 | 2650.00 |  4762.92 |\n",
       "| 10020 | Durango        | Pánuco de Coronado        | 19.45196 |  75.84897 |  75.84897 | 2014.000 |  5.48100233 |  1950.00 | 1 |  1394.40 |  555.60 | 0.28492308 |  878.47 | 0.63 | 3000.00 |  2635.41 |\n",
       "| 10004 | Durango        | Cuencamé                  | 21.86394 |  58.35045 |  58.35045 | 1663.000 |  0.75192982 |  3966.00 | 1 |  1970.30 | 1995.70 | 0.50320222 | 1260.81 | 0.64 | 2417.26 |  3047.70 |\n",
       "| 10032 | Durango        | Santiago Papasquiaro      | 19.20543 |  98.86758 |  98.86758 | 1898.000 |  0.91036755 | 13450.00 | 1 | 11870.00 | 1580.00 | 0.11747212 | 8237.78 | 0.69 | 2700.00 | 22242.01 |\n",
       "| 10003 | Durango        | Coneto de Comonfort       | 19.57515 |  72.74094 |  72.74094 | 1983.250 |  7.06227827 |   689.00 | 1 |   689.00 |    0.00 | 0.00000000 |  482.30 | 0.70 | 3200.00 |  1543.36 |\n",
       "| 10010 | Durango        | Hidalgo                   | 20.02150 |  57.92485 |  57.92485 | 1884.750 |  2.39972663 |  3336.00 | 1 |  3150.00 |  186.00 | 0.05575540 | 2205.00 | 0.70 | 3000.00 |  6615.00 |\n",
       "| 10011 | Durango        | Indé                      | 21.32701 |  63.03349 |  63.03349 | 1684.635 |  0.73034120 |  7426.00 | 1 |  7206.00 |  220.00 | 0.02962564 | 5044.20 | 0.70 | 3000.00 | 15132.60 |\n",
       "| 10016 | Durango        | Nombre de Dios            | 19.99189 |  71.87948 |  71.87948 | 1882.500 |  4.12264061 |   500.00 | 1 |   500.00 |    0.00 | 0.00000000 |  350.00 | 0.70 | 2500.00 |   875.00 |\n",
       "| 10017 | Durango        | Ocampo                    | 19.53785 |  70.48974 |  70.48974 | 1814.250 |  2.11684990 |  5130.00 | 1 |  5060.00 |   70.00 | 0.01364522 | 3542.00 | 0.70 | 3000.00 | 10626.00 |\n",
       "| 10033 | Durango        | Súchil                    | 19.07764 |  75.97760 |  75.97760 | 2036.500 |  4.55153799 |   850.00 | 1 |   850.00 |    0.00 | 0.00000000 |  595.00 | 0.70 | 2500.00 |  1487.50 |\n",
       "| 10038 | Durango        | Vicente Guerrero          | 19.49127 |  71.80398 |  71.80398 | 1950.500 |  3.25882077 |   432.00 | 1 |   432.00 |    0.00 | 0.00000000 |  302.40 | 0.70 | 2500.00 |   756.00 |\n",
       "| 10008 | Durango        | Guadalupe Victoria        | 19.73683 |  72.96771 |  72.96771 | 1992.884 |  0.42587367 |  3500.00 | 1 |  2878.88 |  621.12 | 0.17746286 | 2159.16 | 0.75 | 3000.00 |  6477.48 |\n",
       "| 10021 | Durango        | Peñón Blanco              | 21.38312 |  64.41799 |  64.41799 | 1746.000 |  0.90585035 |   578.00 | 1 |   238.00 |  340.00 | 0.58823529 |  190.40 | 0.80 | 3700.00 |   704.48 |\n",
       "| 10023 | Durango        | Pueblo Nuevo              | 15.62654 | 135.20277 | 135.20277 | 2237.500 |  4.02083540 |  5678.00 | 1 |  5678.00 |    0.00 | 0.00000000 | 4542.40 | 0.80 | 2600.00 | 11810.24 |\n",
       "| 10026 | Durango        | San Dimas                 | 14.61826 | 142.95444 | 142.95444 | 2494.000 |  6.45982838 |  4900.00 | 1 |  4900.00 |    0.00 | 0.00000000 | 3920.00 | 0.80 | 2600.00 | 10192.00 |\n",
       "| 10028 | Durango        | San Juan del Río          | 21.02407 |  69.74961 |  69.74961 | 1859.000 |  6.26628780 |  4436.00 | 1 |  4047.00 |  389.00 | 0.08769161 | 3237.60 | 0.80 | 3200.00 | 10360.32 |\n",
       "| 10034 | Durango        | Tamazula                  | 20.70031 | 138.09424 | 138.09424 |  986.500 | 10.43844986 |  8633.00 | 1 |  8633.00 |    0.00 | 0.00000000 | 6906.40 | 0.80 | 2600.00 | 17956.64 |\n",
       "| 10035 | Durango        | Tepehuanes                | 15.93217 | 109.64829 | 109.64829 | 2398.000 | 16.68789482 |  4370.00 | 1 |  4370.00 |    0.00 | 0.00000000 | 3596.51 | 0.82 | 3000.00 | 10789.53 |\n",
       "| 10022 | Durango        | Poanas                    | 19.65301 |  73.05074 |  73.05074 | 1962.107 |  3.69753575 |  1415.00 | 1 |  1415.00 |    0.00 | 0.00000000 | 1202.75 | 0.85 | 2800.00 |  3367.70 |\n",
       "| 10002 | Durango        | Canelas                   | 16.70599 | 160.92121 | 160.92121 | 2247.000 | 21.33548164 |  1670.00 | 1 |  1670.00 |    0.00 | 0.00000000 | 1439.54 | 0.86 | 3500.00 |  5038.39 |\n",
       "| 10029 | Durango        | San Luis del Cordero      | 23.28109 |  49.91981 |  49.91981 | 1507.344 |  5.03141499 |  1854.00 | 1 |   203.00 | 1651.00 | 0.89050701 |  181.00 | 0.89 | 3000.00 |   543.00 |\n",
       "| 10037 | Durango        | Topia                     | 17.74078 | 150.53673 | 150.53673 | 2160.234 |  4.26840115 |  2082.00 | 1 |  2082.00 |    0.00 | 0.00000000 | 1915.44 | 0.92 | 3500.00 |  6704.04 |\n",
       "| 10019 | Durango        | Otáez                     | 17.54149 | 145.52714 | 145.52714 | 1772.000 |  1.08999503 |  1650.00 | 2 |  1650.00 |    0.00 | 0.00000000 | 1879.35 | 1.14 | 2800.00 |  5262.18 |\n",
       "| 10030 | Durango        | San Pedro del Gallo       | 21.61524 |  52.30861 |  52.30861 | 1825.420 |  0.99929541 |  2033.00 | 2 |   278.00 | 1755.00 | 0.86325627 |  368.00 | 1.32 | 3500.00 |  1288.00 |\n",
       "| 10013 | Durango        | Mapimí                    | 23.82030 |  44.23452 |  44.23452 | 1431.601 |  0.14323916 |   381.00 | 2 |   381.00 |    0.00 | 0.00000000 |  527.00 | 1.38 | 4000.00 |  2108.00 |\n",
       "\n"
      ],
      "text/plain": [
       "   Idcode NOM_ENT_1      NOM_MUN_1                 Tmean_MayOct\n",
       "1  01001  Aguascalientes Aguascalientes            19.86635    \n",
       "2  01004  Aguascalientes Cosío                     18.95824    \n",
       "3  01005  Aguascalientes Jesús María               19.52609    \n",
       "4  01010  Aguascalientes El Llano                  19.20043    \n",
       "5  01011  Aguascalientes San Francisco de los Romo 19.44668    \n",
       "6  10012  Durango        Lerdo                     24.50609    \n",
       "7  10027  Durango        San Juan de Guadalupe     21.28591    \n",
       "8  01002  Aguascalientes Asientos                  18.98015    \n",
       "9  01006  Aguascalientes Pabellón de Arteaga       19.57420    \n",
       "10 01009  Aguascalientes Tepezalá                  19.09883    \n",
       "11 01003  Aguascalientes Calvillo                  20.17904    \n",
       "12 10014  Durango        Mezquital                 22.07773    \n",
       "13 10024  Durango        Rodeo                     23.05892    \n",
       "14 01007  Aguascalientes Rincón de Romos           19.00511    \n",
       "15 10031  Durango        Santa Clara               21.00986    \n",
       "16 10009  Durango        Guanaceví                 15.51554    \n",
       "17 10006  Durango        General Simón Bolívar     22.36369    \n",
       "18 10001  Durango        Canatlán                  18.96490    \n",
       "19 10005  Durango        Durango                   17.84532    \n",
       "20 10018  Durango        El Oro                    20.70729    \n",
       "21 10025  Durango        San Bernardo              20.35318    \n",
       "22 10039  Durango        Nuevo Ideal               19.30691    \n",
       "23 01008  Aguascalientes San José de Gracia        18.44194    \n",
       "24 10020  Durango        Pánuco de Coronado        19.45196    \n",
       "25 10004  Durango        Cuencamé                  21.86394    \n",
       "26 10032  Durango        Santiago Papasquiaro      19.20543    \n",
       "27 10003  Durango        Coneto de Comonfort       19.57515    \n",
       "28 10010  Durango        Hidalgo                   20.02150    \n",
       "29 10011  Durango        Indé                      21.32701    \n",
       "30 10016  Durango        Nombre de Dios            19.99189    \n",
       "31 10017  Durango        Ocampo                    19.53785    \n",
       "32 10033  Durango        Súchil                    19.07764    \n",
       "33 10038  Durango        Vicente Guerrero          19.49127    \n",
       "34 10008  Durango        Guadalupe Victoria        19.73683    \n",
       "35 10021  Durango        Peñón Blanco              21.38312    \n",
       "36 10023  Durango        Pueblo Nuevo              15.62654    \n",
       "37 10026  Durango        San Dimas                 14.61826    \n",
       "38 10028  Durango        San Juan del Río          21.02407    \n",
       "39 10034  Durango        Tamazula                  20.70031    \n",
       "40 10035  Durango        Tepehuanes                15.93217    \n",
       "41 10022  Durango        Poanas                    19.65301    \n",
       "42 10002  Durango        Canelas                   16.70599    \n",
       "43 10029  Durango        San Luis del Cordero      23.28109    \n",
       "44 10037  Durango        Topia                     17.74078    \n",
       "45 10019  Durango        Otáez                     17.54149    \n",
       "46 10030  Durango        San Pedro del Gallo       21.61524    \n",
       "47 10013  Durango        Mapimí                    23.82030    \n",
       "   Precipmean_MayOct Precipsum_MayOct MedianAlt_med Slope_mod   aplt2010\n",
       "1   80.18016          80.18016        1911.733       3.03572369  4383.00\n",
       "2   63.26682          63.26682        2026.669       3.48087740  2296.00\n",
       "3   83.25196          83.25196        1979.000       5.34352350   200.00\n",
       "4   72.38775          72.38775        2022.750       1.79898870  8363.00\n",
       "5   71.37154          71.37154        1963.966       2.05319643   310.00\n",
       "6   40.82719          40.82719        1353.105       0.37351748    12.00\n",
       "7   43.37108          43.37108        1682.250       1.21794152  1780.00\n",
       "8   66.37265          66.37265        2042.000       2.34327340 10547.00\n",
       "9   70.38294          70.38294        1960.491       2.34781194   270.00\n",
       "10  64.22693          64.22693        2014.143       1.52041161  4664.00\n",
       "11  92.76076          92.76076        1868.250       6.32503748  1474.00\n",
       "12  98.43348          98.43348        1640.722      11.34657192 17596.00\n",
       "13  59.29369          59.29369        1555.235       8.04256248  2633.00\n",
       "14  70.90308          70.90308        2036.000       4.89620876  3510.00\n",
       "15  60.59866          60.59866        1861.000       1.04150295   936.00\n",
       "16  94.15408          94.15408        2472.000       8.09352875  2895.00\n",
       "17  50.63553          50.63553        1586.984       4.16942406  3061.00\n",
       "18  80.62665          80.62665        2025.927       0.27177569 11605.00\n",
       "19  91.01565          91.01565        1970.000       0.04051423 17682.87\n",
       "20  69.93032          69.93032        1758.820       1.15999258  6301.00\n",
       "21  76.91361          76.91361        1822.527       7.41341019  6200.00\n",
       "22  77.93082          77.93082        2065.359       0.11811811  8970.00\n",
       "23  83.92602          83.92602        2140.000       3.49071717  3344.00\n",
       "24  75.84897          75.84897        2014.000       5.48100233  1950.00\n",
       "25  58.35045          58.35045        1663.000       0.75192982  3966.00\n",
       "26  98.86758          98.86758        1898.000       0.91036755 13450.00\n",
       "27  72.74094          72.74094        1983.250       7.06227827   689.00\n",
       "28  57.92485          57.92485        1884.750       2.39972663  3336.00\n",
       "29  63.03349          63.03349        1684.635       0.73034120  7426.00\n",
       "30  71.87948          71.87948        1882.500       4.12264061   500.00\n",
       "31  70.48974          70.48974        1814.250       2.11684990  5130.00\n",
       "32  75.97760          75.97760        2036.500       4.55153799   850.00\n",
       "33  71.80398          71.80398        1950.500       3.25882077   432.00\n",
       "34  72.96771          72.96771        1992.884       0.42587367  3500.00\n",
       "35  64.41799          64.41799        1746.000       0.90585035   578.00\n",
       "36 135.20277         135.20277        2237.500       4.02083540  5678.00\n",
       "37 142.95444         142.95444        2494.000       6.45982838  4900.00\n",
       "38  69.74961          69.74961        1859.000       6.26628780  4436.00\n",
       "39 138.09424         138.09424         986.500      10.43844986  8633.00\n",
       "40 109.64829         109.64829        2398.000      16.68789482  4370.00\n",
       "41  73.05074          73.05074        1962.107       3.69753575  1415.00\n",
       "42 160.92121         160.92121        2247.000      21.33548164  1670.00\n",
       "43  49.91981          49.91981        1507.344       5.03141499  1854.00\n",
       "44 150.53673         150.53673        2160.234       4.26840115  2082.00\n",
       "45 145.52714         145.52714        1772.000       1.08999503  1650.00\n",
       "46  52.30861          52.30861        1825.420       0.99929541  2033.00\n",
       "47  44.23452          44.23452        1431.601       0.14323916   381.00\n",
       "   yldclass acos2010 aper2010 aper10     prod2010 rend2010 prec2010 valo2010\n",
       "1  1            0.00 4383.00  1.00000000    0.00  0.00        0.00      0.00\n",
       "2  1            0.00 2296.00  1.00000000    0.00  0.00        0.00      0.00\n",
       "3  1            0.00  200.00  1.00000000    0.00  0.00        0.00      0.00\n",
       "4  1            0.00 8363.00  1.00000000    0.00  0.00        0.00      0.00\n",
       "5  1            0.00  310.00  1.00000000    0.00  0.00        0.00      0.00\n",
       "6  1            0.00   12.00  1.00000000    0.00  0.00        0.00      0.00\n",
       "7  1            0.00 1780.00  1.00000000    0.00  0.00        0.00      0.00\n",
       "8  1         6327.00 4220.00  0.40011378 1486.00  0.24     2800.00   4160.80\n",
       "9  1          270.00    0.00  0.00000000   81.00  0.30     2800.00    226.80\n",
       "10 1          979.00 3685.00  0.79009434  318.99  0.33     2648.34    844.79\n",
       "11 1          305.00 1169.00  0.79308005  104.15  0.34     3000.00    312.45\n",
       "12 1        17596.00    0.00  0.00000000 6158.60  0.35     4500.00  27713.70\n",
       "13 1         2293.00  340.00  0.12913027  830.00  0.36     3000.00   2490.00\n",
       "14 1         1946.00 1564.00  0.44558405  789.04  0.40     3004.94   2371.02\n",
       "15 1          136.00  800.00  0.85470086   54.40  0.40     3700.00    201.28\n",
       "16 1         2564.00  331.00  0.11433506 1153.80  0.45     3500.00   4038.30\n",
       "17 1         1588.00 1473.00  0.48121529  782.00  0.49     4000.00   3128.00\n",
       "18 1        11332.00  273.00  0.02352434 5666.00  0.50     2800.00  15864.80\n",
       "19 1        17482.87  200.00  0.01131038 8741.44  0.50     3500.00  30595.04\n",
       "20 1         5545.00  756.00  0.11998096 2773.00  0.50     3500.00   9705.50\n",
       "21 1         5554.00  646.00  0.10419355 2777.00  0.50     3500.00   9719.50\n",
       "22 1         8717.00  253.00  0.02820513 4358.50  0.50     2800.00  12203.80\n",
       "23 1         3006.00  338.00  0.10107655 1797.33  0.60     2650.00   4762.92\n",
       "24 1         1394.40  555.60  0.28492308  878.47  0.63     3000.00   2635.41\n",
       "25 1         1970.30 1995.70  0.50320222 1260.81  0.64     2417.26   3047.70\n",
       "26 1        11870.00 1580.00  0.11747212 8237.78  0.69     2700.00  22242.01\n",
       "27 1          689.00    0.00  0.00000000  482.30  0.70     3200.00   1543.36\n",
       "28 1         3150.00  186.00  0.05575540 2205.00  0.70     3000.00   6615.00\n",
       "29 1         7206.00  220.00  0.02962564 5044.20  0.70     3000.00  15132.60\n",
       "30 1          500.00    0.00  0.00000000  350.00  0.70     2500.00    875.00\n",
       "31 1         5060.00   70.00  0.01364522 3542.00  0.70     3000.00  10626.00\n",
       "32 1          850.00    0.00  0.00000000  595.00  0.70     2500.00   1487.50\n",
       "33 1          432.00    0.00  0.00000000  302.40  0.70     2500.00    756.00\n",
       "34 1         2878.88  621.12  0.17746286 2159.16  0.75     3000.00   6477.48\n",
       "35 1          238.00  340.00  0.58823529  190.40  0.80     3700.00    704.48\n",
       "36 1         5678.00    0.00  0.00000000 4542.40  0.80     2600.00  11810.24\n",
       "37 1         4900.00    0.00  0.00000000 3920.00  0.80     2600.00  10192.00\n",
       "38 1         4047.00  389.00  0.08769161 3237.60  0.80     3200.00  10360.32\n",
       "39 1         8633.00    0.00  0.00000000 6906.40  0.80     2600.00  17956.64\n",
       "40 1         4370.00    0.00  0.00000000 3596.51  0.82     3000.00  10789.53\n",
       "41 1         1415.00    0.00  0.00000000 1202.75  0.85     2800.00   3367.70\n",
       "42 1         1670.00    0.00  0.00000000 1439.54  0.86     3500.00   5038.39\n",
       "43 1          203.00 1651.00  0.89050701  181.00  0.89     3000.00    543.00\n",
       "44 1         2082.00    0.00  0.00000000 1915.44  0.92     3500.00   6704.04\n",
       "45 2         1650.00    0.00  0.00000000 1879.35  1.14     2800.00   5262.18\n",
       "46 2          278.00 1755.00  0.86325627  368.00  1.32     3500.00   1288.00\n",
       "47 2          381.00    0.00  0.00000000  527.00  1.38     4000.00   2108.00"
      ]
     },
     "metadata": {},
     "output_type": "display_data"
    }
   ],
   "source": [
    "filter(df_procampo_no_NA_renamed, NOM_ENT_1 %in% c(\"Aguascalientes\", \"Durango\"))"
   ]
  }
 ],
 "metadata": {
  "kernelspec": {
   "display_name": "R",
   "language": "R",
   "name": "ir"
  },
  "language_info": {
   "codemirror_mode": "r",
   "file_extension": ".r",
   "mimetype": "text/x-r-source",
   "name": "R",
   "pygments_lexer": "r",
   "version": "4.1.1"
  }
 },
 "nbformat": 4,
 "nbformat_minor": 5
}
